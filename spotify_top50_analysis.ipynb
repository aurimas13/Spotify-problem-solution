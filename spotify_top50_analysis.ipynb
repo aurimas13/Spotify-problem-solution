{
 "cells": [
  {
   "cell_type": "markdown",
   "metadata": {},
   "source": [
    "# Introduction \n",
    "\n",
    "This Jupyter Notebook contains analysis of Top 50 Spotify Tracks 2020 dataset. Herein the notebook will provide and describe steps of data cleaning, exploratory data analysis, correlation calculations, some comparisons and finalise with giving improvements to be done."
   ]
  },
  {
   "cell_type": "code",
   "execution_count": 84,
   "metadata": {},
   "outputs": [],
   "source": [
    "# Importing libraries\n",
    "\n",
    "import numpy as np \n",
    "import pandas as pd\n",
    "import matplotlib.pyplot as plt\n",
    "import seaborn as sns\n",
    "import scipy.stats as ss\n",
    "import itertools\n",
    "import warnings\n",
    "warnings.filterwarnings('ignore')"
   ]
  },
  {
   "cell_type": "markdown",
   "metadata": {},
   "source": [
    "# Loading spotify data"
   ]
  },
  {
   "cell_type": "code",
   "execution_count": 85,
   "metadata": {},
   "outputs": [
    {
     "data": {
      "text/html": [
       "<div>\n",
       "<style scoped>\n",
       "    .dataframe tbody tr th:only-of-type {\n",
       "        vertical-align: middle;\n",
       "    }\n",
       "\n",
       "    .dataframe tbody tr th {\n",
       "        vertical-align: top;\n",
       "    }\n",
       "\n",
       "    .dataframe thead th {\n",
       "        text-align: right;\n",
       "    }\n",
       "</style>\n",
       "<table border=\"1\" class=\"dataframe\">\n",
       "  <thead>\n",
       "    <tr style=\"text-align: right;\">\n",
       "      <th></th>\n",
       "      <th>artist</th>\n",
       "      <th>album</th>\n",
       "      <th>track_name</th>\n",
       "      <th>track_id</th>\n",
       "      <th>energy</th>\n",
       "      <th>danceability</th>\n",
       "      <th>key</th>\n",
       "      <th>loudness</th>\n",
       "      <th>acousticness</th>\n",
       "      <th>speechiness</th>\n",
       "      <th>instrumentalness</th>\n",
       "      <th>liveness</th>\n",
       "      <th>valence</th>\n",
       "      <th>tempo</th>\n",
       "      <th>duration_ms</th>\n",
       "      <th>genre</th>\n",
       "    </tr>\n",
       "  </thead>\n",
       "  <tbody>\n",
       "    <tr>\n",
       "      <th>0</th>\n",
       "      <td>The Weeknd</td>\n",
       "      <td>After Hours</td>\n",
       "      <td>Blinding Lights</td>\n",
       "      <td>0VjIjW4GlUZAMYd2vXMi3b</td>\n",
       "      <td>0.730</td>\n",
       "      <td>0.514</td>\n",
       "      <td>1</td>\n",
       "      <td>-5.934</td>\n",
       "      <td>0.00146</td>\n",
       "      <td>0.0598</td>\n",
       "      <td>0.000095</td>\n",
       "      <td>0.0897</td>\n",
       "      <td>0.334</td>\n",
       "      <td>171.005</td>\n",
       "      <td>200040</td>\n",
       "      <td>R&amp;B/Soul</td>\n",
       "    </tr>\n",
       "    <tr>\n",
       "      <th>1</th>\n",
       "      <td>Tones And I</td>\n",
       "      <td>Dance Monkey</td>\n",
       "      <td>Dance Monkey</td>\n",
       "      <td>1rgnBhdG2JDFTbYkYRZAku</td>\n",
       "      <td>0.593</td>\n",
       "      <td>0.825</td>\n",
       "      <td>6</td>\n",
       "      <td>-6.401</td>\n",
       "      <td>0.68800</td>\n",
       "      <td>0.0988</td>\n",
       "      <td>0.000161</td>\n",
       "      <td>0.1700</td>\n",
       "      <td>0.540</td>\n",
       "      <td>98.078</td>\n",
       "      <td>209755</td>\n",
       "      <td>Alternative/Indie</td>\n",
       "    </tr>\n",
       "    <tr>\n",
       "      <th>2</th>\n",
       "      <td>Roddy Ricch</td>\n",
       "      <td>Please Excuse Me For Being Antisocial</td>\n",
       "      <td>The Box</td>\n",
       "      <td>0nbXyq5TXYPCO7pr3N8S4I</td>\n",
       "      <td>0.586</td>\n",
       "      <td>0.896</td>\n",
       "      <td>10</td>\n",
       "      <td>-6.687</td>\n",
       "      <td>0.10400</td>\n",
       "      <td>0.0559</td>\n",
       "      <td>0.000000</td>\n",
       "      <td>0.7900</td>\n",
       "      <td>0.642</td>\n",
       "      <td>116.971</td>\n",
       "      <td>196653</td>\n",
       "      <td>Hip-Hop/Rap</td>\n",
       "    </tr>\n",
       "    <tr>\n",
       "      <th>3</th>\n",
       "      <td>SAINt JHN</td>\n",
       "      <td>Roses (Imanbek Remix)</td>\n",
       "      <td>Roses - Imanbek Remix</td>\n",
       "      <td>2Wo6QQD1KMDWeFkkjLqwx5</td>\n",
       "      <td>0.721</td>\n",
       "      <td>0.785</td>\n",
       "      <td>8</td>\n",
       "      <td>-5.457</td>\n",
       "      <td>0.01490</td>\n",
       "      <td>0.0506</td>\n",
       "      <td>0.004320</td>\n",
       "      <td>0.2850</td>\n",
       "      <td>0.894</td>\n",
       "      <td>121.962</td>\n",
       "      <td>176219</td>\n",
       "      <td>Dance/Electronic</td>\n",
       "    </tr>\n",
       "    <tr>\n",
       "      <th>4</th>\n",
       "      <td>Dua Lipa</td>\n",
       "      <td>Future Nostalgia</td>\n",
       "      <td>Don't Start Now</td>\n",
       "      <td>3PfIrDoz19wz7qK7tYeu62</td>\n",
       "      <td>0.793</td>\n",
       "      <td>0.793</td>\n",
       "      <td>11</td>\n",
       "      <td>-4.521</td>\n",
       "      <td>0.01230</td>\n",
       "      <td>0.0830</td>\n",
       "      <td>0.000000</td>\n",
       "      <td>0.0951</td>\n",
       "      <td>0.679</td>\n",
       "      <td>123.950</td>\n",
       "      <td>183290</td>\n",
       "      <td>Nu-disco</td>\n",
       "    </tr>\n",
       "  </tbody>\n",
       "</table>\n",
       "</div>"
      ],
      "text/plain": [
       "        artist                                  album             track_name  \\\n",
       "0   The Weeknd                            After Hours        Blinding Lights   \n",
       "1  Tones And I                           Dance Monkey           Dance Monkey   \n",
       "2  Roddy Ricch  Please Excuse Me For Being Antisocial                The Box   \n",
       "3    SAINt JHN                  Roses (Imanbek Remix)  Roses - Imanbek Remix   \n",
       "4     Dua Lipa                       Future Nostalgia        Don't Start Now   \n",
       "\n",
       "                 track_id  energy  danceability  key  loudness  acousticness  \\\n",
       "0  0VjIjW4GlUZAMYd2vXMi3b   0.730         0.514    1    -5.934       0.00146   \n",
       "1  1rgnBhdG2JDFTbYkYRZAku   0.593         0.825    6    -6.401       0.68800   \n",
       "2  0nbXyq5TXYPCO7pr3N8S4I   0.586         0.896   10    -6.687       0.10400   \n",
       "3  2Wo6QQD1KMDWeFkkjLqwx5   0.721         0.785    8    -5.457       0.01490   \n",
       "4  3PfIrDoz19wz7qK7tYeu62   0.793         0.793   11    -4.521       0.01230   \n",
       "\n",
       "   speechiness  instrumentalness  liveness  valence    tempo  duration_ms  \\\n",
       "0       0.0598          0.000095    0.0897    0.334  171.005       200040   \n",
       "1       0.0988          0.000161    0.1700    0.540   98.078       209755   \n",
       "2       0.0559          0.000000    0.7900    0.642  116.971       196653   \n",
       "3       0.0506          0.004320    0.2850    0.894  121.962       176219   \n",
       "4       0.0830          0.000000    0.0951    0.679  123.950       183290   \n",
       "\n",
       "               genre  \n",
       "0           R&B/Soul  \n",
       "1  Alternative/Indie  \n",
       "2        Hip-Hop/Rap  \n",
       "3   Dance/Electronic  \n",
       "4           Nu-disco  "
      ]
     },
     "execution_count": 85,
     "metadata": {},
     "output_type": "execute_result"
    }
   ],
   "source": [
    "# Importing the spotify data\n",
    "\n",
    "df = pd.read_csv('./spotifytoptracks.csv', sep=',', index_col=0)\n",
    "df.head(5)\n"
   ]
  },
  {
   "cell_type": "markdown",
   "metadata": {},
   "source": [
    "# Data cleaning"
   ]
  },
  {
   "cell_type": "markdown",
   "metadata": {},
   "source": [
    "#### Check is any row NULL?\n",
    "\n"
   ]
  },
  {
   "cell_type": "markdown",
   "metadata": {},
   "source": [
    "<p> In the below cell we are investigating if any value in the rows of features (any()) at a dataframe is null (isnull()). <br>\n",
    "    In the output we expect a boolean value to be False if there are no null values for the columns, otherwise if there is at least one null value - True. <p>\n",
    "\n"
   ]
  },
  {
   "cell_type": "code",
   "execution_count": 86,
   "metadata": {},
   "outputs": [
    {
     "data": {
      "text/plain": [
       "artist              False\n",
       "album               False\n",
       "track_name          False\n",
       "track_id            False\n",
       "energy              False\n",
       "danceability        False\n",
       "key                 False\n",
       "loudness            False\n",
       "acousticness        False\n",
       "speechiness         False\n",
       "instrumentalness    False\n",
       "liveness            False\n",
       "valence             False\n",
       "tempo               False\n",
       "duration_ms         False\n",
       "genre               False\n",
       "dtype: bool"
      ]
     },
     "execution_count": 86,
     "metadata": {},
     "output_type": "execute_result"
    }
   ],
   "source": [
    "df.isnull().any()"
   ]
  },
  {
   "cell_type": "markdown",
   "metadata": {},
   "source": [
    "#### Check if there are any duplicates?"
   ]
  },
  {
   "cell_type": "markdown",
   "metadata": {},
   "source": [
    "<p> In the below cell we are checking if a row across all features in a dataframe contains duplicate values. <br>\n",
    "In the output we expect a boolean value to be False if there are no duplicated rows. <p>\n"
   ]
  },
  {
   "cell_type": "code",
   "execution_count": 87,
   "metadata": {},
   "outputs": [
    {
     "data": {
      "text/plain": [
       "0     False\n",
       "1     False\n",
       "2     False\n",
       "3     False\n",
       "4     False\n",
       "5     False\n",
       "6     False\n",
       "7     False\n",
       "8     False\n",
       "9     False\n",
       "10    False\n",
       "11    False\n",
       "12    False\n",
       "13    False\n",
       "14    False\n",
       "15    False\n",
       "16    False\n",
       "17    False\n",
       "18    False\n",
       "19    False\n",
       "20    False\n",
       "21    False\n",
       "22    False\n",
       "23    False\n",
       "24    False\n",
       "25    False\n",
       "26    False\n",
       "27    False\n",
       "28    False\n",
       "29    False\n",
       "30    False\n",
       "31    False\n",
       "32    False\n",
       "33    False\n",
       "34    False\n",
       "35    False\n",
       "36    False\n",
       "37    False\n",
       "38    False\n",
       "39    False\n",
       "40    False\n",
       "41    False\n",
       "42    False\n",
       "43    False\n",
       "44    False\n",
       "45    False\n",
       "46    False\n",
       "47    False\n",
       "48    False\n",
       "49    False\n",
       "dtype: bool"
      ]
     },
     "execution_count": 87,
     "metadata": {},
     "output_type": "execute_result"
    }
   ],
   "source": [
    "df.duplicated(df.columns)"
   ]
  },
  {
   "cell_type": "markdown",
   "metadata": {},
   "source": [
    "## Treating the outliers"
   ]
  },
  {
   "cell_type": "markdown",
   "metadata": {},
   "source": [
    "<p> In the below sections (until EDA) we are treating the outliers. The dots in the graphs below show the outliers. <p>"
   ]
  },
  {
   "cell_type": "code",
   "execution_count": 88,
   "metadata": {},
   "outputs": [
    {
     "data": {
      "image/png": "[encoded data removed]",
      "text/plain": [
       "<Figure size 900x720 with 1 Axes>"
      ]
     },
     "metadata": {},
     "output_type": "display_data"
    }
   ],
   "source": [
    "# Assigning a new dataframe (df_2) from a known dataframe (df) with 6 features ranging from 0 to 1\n",
    "%matplotlib inline\n",
    "\n",
    "df_2 = pd.DataFrame(data = df, columns = ['energy', 'danceability', 'acousticness',\n",
    "                                          'speechiness', 'liveness', 'valence'])\n",
    "\n",
    "# Setting the dimensions and overwriting the default values\n",
    "\n",
    "sns.set(rc={'figure.figsize':(12.5,10.0)})\n",
    "\n",
    "# Selecting boxplot for visualization \n",
    "\n",
    "sns.boxplot(x=\"variable\", y=\"value\", data=pd.melt(df_2))\n",
    "\n",
    "# Plotting outliers within 6 features ranging from 0 to 1 \n",
    "\n",
    "plt.show()\n",
    "\n",
    "# Expected result: outlier identifications"
   ]
  },
  {
   "cell_type": "code",
   "execution_count": 89,
   "metadata": {},
   "outputs": [
    {
     "data": {
      "image/png": "[encoded data removed]",
      "text/plain": [
       "<Figure size 900x720 with 1 Axes>"
      ]
     },
     "metadata": {},
     "output_type": "display_data"
    }
   ],
   "source": [
    "# Assigning a new dataframe (df_3) from a known dataframe (df) with 2 features ranging from -15 to ~10\n",
    "\n",
    "df_3 = pd.DataFrame(data = df, columns = ['key','loudness'])\n",
    "\n",
    "# Selecting boxplot for visualization \n",
    "\n",
    "sns.boxplot(x=\"variable\", y=\"value\", data=pd.melt(df_3))\n",
    "\n",
    "# Plotting outliers within 2 features ranging from -15 to ~10 \n",
    "\n",
    "plt.show()\n",
    "\n",
    "# Expected result: outlier identifications"
   ]
  },
  {
   "cell_type": "code",
   "execution_count": 90,
   "metadata": {},
   "outputs": [
    {
     "data": {
      "image/png": "[encoded data removed]",
      "text/plain": [
       "<Figure size 900x720 with 1 Axes>"
      ]
     },
     "metadata": {},
     "output_type": "display_data"
    }
   ],
   "source": [
    "# Selecting boxplot for visualization of duration_ms column\n",
    "\n",
    "_ = sns.boxplot(x=df['duration_ms'])\n",
    "\n",
    "# Expected result: outlier identifications"
   ]
  },
  {
   "cell_type": "code",
   "execution_count": 91,
   "metadata": {},
   "outputs": [
    {
     "data": {
      "image/png": "[encoded data removed]",
      "text/plain": [
       "<Figure size 900x720 with 1 Axes>"
      ]
     },
     "metadata": {},
     "output_type": "display_data"
    }
   ],
   "source": [
    "# Selecting boxplot for visualization of tempo column\n",
    "\n",
    "_ = sns.boxplot(x=df['tempo'])\n",
    "# _ = plot.set_xticklabels(plot.get_xticklabels(), rotation=90)\n",
    "\n",
    "# Expected result: outlier identifications, but none identified"
   ]
  },
  {
   "cell_type": "code",
   "execution_count": 92,
   "metadata": {},
   "outputs": [
    {
     "data": {
      "image/png": "[encoded data removed]",
      "text/plain": [
       "<Figure size 900x720 with 1 Axes>"
      ]
     },
     "metadata": {},
     "output_type": "display_data"
    }
   ],
   "source": [
    "# Selecting boxplot for visualization of instrumentalness column\n",
    "\n",
    "_ = sns.boxplot(x=df['instrumentalness'])\n",
    "# _ = plot.set_xticklabels(plot.get_xticklabels(), rotation=90)\n",
    "\n",
    "\n",
    "# Expected result: outlier identifications"
   ]
  },
  {
   "cell_type": "markdown",
   "metadata": {},
   "source": [
    "# Exploratory Data Analysis\n",
    "### 1. Data exploration & popularity analysis"
   ]
  },
  {
   "cell_type": "markdown",
   "metadata": {},
   "source": [
    "<p> In the cell below we are changing index values to start from 1 and change its column name to 'position' <p>\n",
    "    "
   ]
  },
  {
   "cell_type": "code",
   "execution_count": 93,
   "metadata": {},
   "outputs": [
    {
     "data": {
      "text/html": [
       "<div>\n",
       "<style scoped>\n",
       "    .dataframe tbody tr th:only-of-type {\n",
       "        vertical-align: middle;\n",
       "    }\n",
       "\n",
       "    .dataframe tbody tr th {\n",
       "        vertical-align: top;\n",
       "    }\n",
       "\n",
       "    .dataframe thead th {\n",
       "        text-align: right;\n",
       "    }\n",
       "</style>\n",
       "<table border=\"1\" class=\"dataframe\">\n",
       "  <thead>\n",
       "    <tr style=\"text-align: right;\">\n",
       "      <th></th>\n",
       "      <th>artist</th>\n",
       "      <th>album</th>\n",
       "      <th>track_name</th>\n",
       "      <th>track_id</th>\n",
       "      <th>energy</th>\n",
       "      <th>danceability</th>\n",
       "      <th>key</th>\n",
       "      <th>loudness</th>\n",
       "      <th>acousticness</th>\n",
       "      <th>speechiness</th>\n",
       "      <th>instrumentalness</th>\n",
       "      <th>liveness</th>\n",
       "      <th>valence</th>\n",
       "      <th>tempo</th>\n",
       "      <th>duration_ms</th>\n",
       "      <th>genre</th>\n",
       "    </tr>\n",
       "    <tr>\n",
       "      <th>position</th>\n",
       "      <th></th>\n",
       "      <th></th>\n",
       "      <th></th>\n",
       "      <th></th>\n",
       "      <th></th>\n",
       "      <th></th>\n",
       "      <th></th>\n",
       "      <th></th>\n",
       "      <th></th>\n",
       "      <th></th>\n",
       "      <th></th>\n",
       "      <th></th>\n",
       "      <th></th>\n",
       "      <th></th>\n",
       "      <th></th>\n",
       "      <th></th>\n",
       "    </tr>\n",
       "  </thead>\n",
       "  <tbody>\n",
       "    <tr>\n",
       "      <th>1</th>\n",
       "      <td>The Weeknd</td>\n",
       "      <td>After Hours</td>\n",
       "      <td>Blinding Lights</td>\n",
       "      <td>0VjIjW4GlUZAMYd2vXMi3b</td>\n",
       "      <td>0.730</td>\n",
       "      <td>0.514</td>\n",
       "      <td>1</td>\n",
       "      <td>-5.934</td>\n",
       "      <td>0.00146</td>\n",
       "      <td>0.0598</td>\n",
       "      <td>0.000095</td>\n",
       "      <td>0.0897</td>\n",
       "      <td>0.334</td>\n",
       "      <td>171.005</td>\n",
       "      <td>200040</td>\n",
       "      <td>R&amp;B/Soul</td>\n",
       "    </tr>\n",
       "    <tr>\n",
       "      <th>2</th>\n",
       "      <td>Tones And I</td>\n",
       "      <td>Dance Monkey</td>\n",
       "      <td>Dance Monkey</td>\n",
       "      <td>1rgnBhdG2JDFTbYkYRZAku</td>\n",
       "      <td>0.593</td>\n",
       "      <td>0.825</td>\n",
       "      <td>6</td>\n",
       "      <td>-6.401</td>\n",
       "      <td>0.68800</td>\n",
       "      <td>0.0988</td>\n",
       "      <td>0.000161</td>\n",
       "      <td>0.1700</td>\n",
       "      <td>0.540</td>\n",
       "      <td>98.078</td>\n",
       "      <td>209755</td>\n",
       "      <td>Alternative/Indie</td>\n",
       "    </tr>\n",
       "    <tr>\n",
       "      <th>3</th>\n",
       "      <td>Roddy Ricch</td>\n",
       "      <td>Please Excuse Me For Being Antisocial</td>\n",
       "      <td>The Box</td>\n",
       "      <td>0nbXyq5TXYPCO7pr3N8S4I</td>\n",
       "      <td>0.586</td>\n",
       "      <td>0.896</td>\n",
       "      <td>10</td>\n",
       "      <td>-6.687</td>\n",
       "      <td>0.10400</td>\n",
       "      <td>0.0559</td>\n",
       "      <td>0.000000</td>\n",
       "      <td>0.7900</td>\n",
       "      <td>0.642</td>\n",
       "      <td>116.971</td>\n",
       "      <td>196653</td>\n",
       "      <td>Hip-Hop/Rap</td>\n",
       "    </tr>\n",
       "    <tr>\n",
       "      <th>4</th>\n",
       "      <td>SAINt JHN</td>\n",
       "      <td>Roses (Imanbek Remix)</td>\n",
       "      <td>Roses - Imanbek Remix</td>\n",
       "      <td>2Wo6QQD1KMDWeFkkjLqwx5</td>\n",
       "      <td>0.721</td>\n",
       "      <td>0.785</td>\n",
       "      <td>8</td>\n",
       "      <td>-5.457</td>\n",
       "      <td>0.01490</td>\n",
       "      <td>0.0506</td>\n",
       "      <td>0.004320</td>\n",
       "      <td>0.2850</td>\n",
       "      <td>0.894</td>\n",
       "      <td>121.962</td>\n",
       "      <td>176219</td>\n",
       "      <td>Dance/Electronic</td>\n",
       "    </tr>\n",
       "    <tr>\n",
       "      <th>5</th>\n",
       "      <td>Dua Lipa</td>\n",
       "      <td>Future Nostalgia</td>\n",
       "      <td>Don't Start Now</td>\n",
       "      <td>3PfIrDoz19wz7qK7tYeu62</td>\n",
       "      <td>0.793</td>\n",
       "      <td>0.793</td>\n",
       "      <td>11</td>\n",
       "      <td>-4.521</td>\n",
       "      <td>0.01230</td>\n",
       "      <td>0.0830</td>\n",
       "      <td>0.000000</td>\n",
       "      <td>0.0951</td>\n",
       "      <td>0.679</td>\n",
       "      <td>123.950</td>\n",
       "      <td>183290</td>\n",
       "      <td>Nu-disco</td>\n",
       "    </tr>\n",
       "  </tbody>\n",
       "</table>\n",
       "</div>"
      ],
      "text/plain": [
       "               artist                                  album  \\\n",
       "position                                                       \n",
       "1          The Weeknd                            After Hours   \n",
       "2         Tones And I                           Dance Monkey   \n",
       "3         Roddy Ricch  Please Excuse Me For Being Antisocial   \n",
       "4           SAINt JHN                  Roses (Imanbek Remix)   \n",
       "5            Dua Lipa                       Future Nostalgia   \n",
       "\n",
       "                     track_name                track_id  energy  danceability  \\\n",
       "position                                                                        \n",
       "1               Blinding Lights  0VjIjW4GlUZAMYd2vXMi3b   0.730         0.514   \n",
       "2                  Dance Monkey  1rgnBhdG2JDFTbYkYRZAku   0.593         0.825   \n",
       "3                       The Box  0nbXyq5TXYPCO7pr3N8S4I   0.586         0.896   \n",
       "4         Roses - Imanbek Remix  2Wo6QQD1KMDWeFkkjLqwx5   0.721         0.785   \n",
       "5               Don't Start Now  3PfIrDoz19wz7qK7tYeu62   0.793         0.793   \n",
       "\n",
       "          key  loudness  acousticness  speechiness  instrumentalness  \\\n",
       "position                                                               \n",
       "1           1    -5.934       0.00146       0.0598          0.000095   \n",
       "2           6    -6.401       0.68800       0.0988          0.000161   \n",
       "3          10    -6.687       0.10400       0.0559          0.000000   \n",
       "4           8    -5.457       0.01490       0.0506          0.004320   \n",
       "5          11    -4.521       0.01230       0.0830          0.000000   \n",
       "\n",
       "          liveness  valence    tempo  duration_ms              genre  \n",
       "position                                                              \n",
       "1           0.0897    0.334  171.005       200040           R&B/Soul  \n",
       "2           0.1700    0.540   98.078       209755  Alternative/Indie  \n",
       "3           0.7900    0.642  116.971       196653        Hip-Hop/Rap  \n",
       "4           0.2850    0.894  121.962       176219   Dance/Electronic  \n",
       "5           0.0951    0.679  123.950       183290           Nu-disco  "
      ]
     },
     "execution_count": 93,
     "metadata": {},
     "output_type": "execute_result"
    }
   ],
   "source": [
    "df.index += 1\n",
    "df.index.name = 'position'\n",
    "df.head(5)"
   ]
  },
  {
   "cell_type": "markdown",
   "metadata": {},
   "source": [
    "#### How many observations and features there are?\n",
    "\n",
    "<p> In the below cell we are counting row numbers of index as observations and column numbers as features. <br>\n",
    "    In the output we are displaying the number of rows (50) and columns (16). There are 50 observations and 16 features. <p>\n",
    "\n"
   ]
  },
  {
   "cell_type": "code",
   "execution_count": 94,
   "metadata": {},
   "outputs": [
    {
     "name": "stdout",
     "output_type": "stream",
     "text": [
      "Observations: 50\n",
      "Features: 16\n"
     ]
    }
   ],
   "source": [
    "print(\"Observations: \" + str(len(df.index)))\n",
    "print(\"Features: \" + str(len(df.columns)))\n",
    "# df.shape[0]"
   ]
  },
  {
   "cell_type": "markdown",
   "metadata": {},
   "source": [
    "#### Which of the features are numeric?"
   ]
  },
  {
   "cell_type": "markdown",
   "metadata": {},
   "source": [
    "<p> In the cell below we are defining all columns and implementing function (_get_numeric_data()) to find numeric features. <br>\n",
    "    In the output we are getting these numeric features: 'energy', 'danceability', 'key', 'loudness', 'acousticness', 'speechiness', 'instrumentalness', 'liveness', 'valence', 'tempo', 'duration_ms'. <p>\n",
    "\n"
   ]
  },
  {
   "cell_type": "code",
   "execution_count": 95,
   "metadata": {},
   "outputs": [
    {
     "data": {
      "text/plain": [
       "Index(['energy', 'danceability', 'key', 'loudness', 'acousticness',\n",
       "       'speechiness', 'instrumentalness', 'liveness', 'valence', 'tempo',\n",
       "       'duration_ms'],\n",
       "      dtype='object')"
      ]
     },
     "execution_count": 95,
     "metadata": {},
     "output_type": "execute_result"
    }
   ],
   "source": [
    "cols = df.columns\n",
    "num_cols = df._get_numeric_data().columns\n",
    "num_cols\n",
    "\n",
    "# df.info()"
   ]
  },
  {
   "cell_type": "markdown",
   "metadata": {},
   "source": [
    "#### Which features are categorical?"
   ]
  },
  {
   "cell_type": "markdown",
   "metadata": {},
   "source": [
    "<p> In the cell below we are substracting numeric features from all columns. <br>\n",
    "    In the output we get categorical features: 'album', 'genre', 'artist', 'track_name', 'track_id'. <p>\n",
    "\n"
   ]
  },
  {
   "cell_type": "code",
   "execution_count": 96,
   "metadata": {},
   "outputs": [
    {
     "data": {
      "text/plain": [
       "['album', 'track_id', 'genre', 'track_name', 'artist']"
      ]
     },
     "execution_count": 96,
     "metadata": {},
     "output_type": "execute_result"
    }
   ],
   "source": [
    "cat_cols = list(set(cols) - set(num_cols))\n",
    "cat_cols\n",
    "\n",
    "# df.dtypes.value_counts()"
   ]
  },
  {
   "cell_type": "markdown",
   "metadata": {},
   "source": [
    "#### Are there any artists that have more than 1 popular track?"
   ]
  },
  {
   "cell_type": "markdown",
   "metadata": {},
   "source": [
    "<p> In the cell below we are splitting dataframe into artist groups that have at least one track and sorting the values in descending order. <br>\n",
    "    In the ouput we expect a boolean to be True, which signifies that there are artists with more than one popular track. <p>\n",
    "\n"
   ]
  },
  {
   "cell_type": "code",
   "execution_count": 97,
   "metadata": {},
   "outputs": [
    {
     "data": {
      "text/plain": [
       "True"
      ]
     },
     "execution_count": 97,
     "metadata": {},
     "output_type": "execute_result"
    }
   ],
   "source": [
    "all_artists = df.groupby('artist')['track_name'].count().sort_values(ascending=False)\n",
    "\n",
    "# Gives a boolean value if a mask is true\n",
    "(all_artists[1] > 1).any()"
   ]
  },
  {
   "cell_type": "markdown",
   "metadata": {},
   "source": [
    "#### If yes, which and how many?"
   ]
  },
  {
   "cell_type": "markdown",
   "metadata": {},
   "source": [
    "<p> In the cell below we are assigning a variable that checks over all_artists series object where mask is true. <br>\n",
    "    In the output we get all artists that have more than 1 track. It gives 7 artists: Travis Scott, Billie Eilish, Dua Lipa, Harry Styles, Lewis Capaldi, Post Malone, Justin Bieber. <p>\n"
   ]
  },
  {
   "cell_type": "code",
   "execution_count": 98,
   "metadata": {},
   "outputs": [
    {
     "data": {
      "text/plain": [
       "artist\n",
       "Travis Scott     3\n",
       "Billie Eilish    3\n",
       "Dua Lipa         3\n",
       "Harry Styles     2\n",
       "Lewis Capaldi    2\n",
       "Post Malone      2\n",
       "Justin Bieber    2\n",
       "Name: track_name, dtype: int64"
      ]
     },
     "execution_count": 98,
     "metadata": {},
     "output_type": "execute_result"
    }
   ],
   "source": [
    "popular_artists = all_artists[(all_artists > 1)]\n",
    "popular_artists"
   ]
  },
  {
   "cell_type": "markdown",
   "metadata": {},
   "source": [
    "#### Who was the most popular artist?"
   ]
  },
  {
   "cell_type": "markdown",
   "metadata": {},
   "source": [
    "<p> In the cell below we are assigning variables that implements max() function on popular_artists series object and checks over this series where mask is true. <br>\n",
    "    In the output we get the most popular artists to be 3 with 3 meaning that there are 3 most popular artists: Travis Scott, Billie Eilish, Dua Lipa  <p>\n",
    "\n"
   ]
  },
  {
   "cell_type": "code",
   "execution_count": 99,
   "metadata": {},
   "outputs": [
    {
     "data": {
      "text/plain": [
       "artist\n",
       "Travis Scott     3\n",
       "Billie Eilish    3\n",
       "Dua Lipa         3\n",
       "Name: track_name, dtype: int64"
      ]
     },
     "execution_count": 99,
     "metadata": {},
     "output_type": "execute_result"
    }
   ],
   "source": [
    "max_songs_by_artist = popular_artists.max()\n",
    "most_popular_artists = popular_artists[(popular_artists == max_songs_by_artist)]\n",
    "most_popular_artists "
   ]
  },
  {
   "cell_type": "markdown",
   "metadata": {},
   "source": [
    "#### How many artists in total have their songs in the top 50?"
   ]
  },
  {
   "cell_type": "markdown",
   "metadata": {},
   "source": [
    "<p> In the cell below we are counting over all rows of a column of an updated all_artists series. <br>\n",
    "    The output gives 40, which means that there are 40 unique artists that have their songs in the top 50. <p>\n",
    "\n"
   ]
  },
  {
   "cell_type": "code",
   "execution_count": 100,
   "metadata": {},
   "outputs": [
    {
     "data": {
      "text/plain": [
       "40"
      ]
     },
     "execution_count": 100,
     "metadata": {},
     "output_type": "execute_result"
    }
   ],
   "source": [
    "all_artists[:].count()\n",
    "\n",
    "# Alternative ways:\n",
    "# all_artists.iloc[:].count()\n",
    "# all_artists.count()"
   ]
  },
  {
   "cell_type": "markdown",
   "metadata": {},
   "source": [
    "#### Are there any albums that have more than 1 popular track? "
   ]
  },
  {
   "cell_type": "markdown",
   "metadata": {},
   "source": [
    "<p> In the cell below we are splitting dataframe into album groups that have at least one track and sort the values in the descending order. <br>\n",
    "    In the output we expect a boolean to be True, which signifies that there are albums with more than one popular track. <p>\n",
    "\n"
   ]
  },
  {
   "cell_type": "code",
   "execution_count": 101,
   "metadata": {},
   "outputs": [
    {
     "data": {
      "text/plain": [
       "True"
      ]
     },
     "execution_count": 101,
     "metadata": {},
     "output_type": "execute_result"
    }
   ],
   "source": [
    "albums_with_tracks = df.groupby('album')['track_name'].count().sort_values(ascending=False)\n",
    "\n",
    "# Gives a boolean value if a mask is true\n",
    "(albums_with_tracks[1] > 1).any()"
   ]
  },
  {
   "cell_type": "markdown",
   "metadata": {},
   "source": [
    "####  If yes, which and how many?"
   ]
  },
  {
   "cell_type": "markdown",
   "metadata": {},
   "source": [
    "<p> In the cell below we are assigning variables that implement min() function and check albums_with_tracks series object where mask is true. <br>\n",
    "    The output gives albums that contain more than one track in albums_with_tracks series. Should be 4: Future Nostalgia, Hollywood's Bleeding, Changes, Fine Line. <p>\n",
    "\n"
   ]
  },
  {
   "cell_type": "code",
   "execution_count": 102,
   "metadata": {},
   "outputs": [
    {
     "data": {
      "text/plain": [
       "album\n",
       "Future Nostalgia        3\n",
       "Hollywood's Bleeding    2\n",
       "Changes                 2\n",
       "Fine Line               2\n",
       "Name: track_name, dtype: int64"
      ]
     },
     "execution_count": 102,
     "metadata": {},
     "output_type": "execute_result"
    }
   ],
   "source": [
    "min_albums_with_songs = albums_with_tracks.min()\n",
    "most_popular_albums = albums_with_tracks[(albums_with_tracks > min_albums_with_songs)]\n",
    "most_popular_albums"
   ]
  },
  {
   "cell_type": "markdown",
   "metadata": {},
   "source": [
    "#### How many albums in total have their songs in the top 50?"
   ]
  },
  {
   "cell_type": "markdown",
   "metadata": {},
   "source": [
    "<p> In the cell below we are counting over all rows of a column of an albums_with_tracks series. <br>\n",
    "The output gives 45, which means that there are 45 unique albums that have their songs in the top 50. <p>"
   ]
  },
  {
   "cell_type": "code",
   "execution_count": 103,
   "metadata": {},
   "outputs": [
    {
     "data": {
      "text/plain": [
       "45"
      ]
     },
     "execution_count": 103,
     "metadata": {},
     "output_type": "execute_result"
    }
   ],
   "source": [
    "albums_with_tracks[:].count()\n",
    "\n",
    "# Alternative ways\n",
    "# albums_with_tracks.iloc[:].count()\n",
    "# albums_with_tracks.count()"
   ]
  },
  {
   "cell_type": "markdown",
   "metadata": {},
   "source": [
    "### 2. Investigation of feature values through masking conditions\n"
   ]
  },
  {
   "cell_type": "markdown",
   "metadata": {},
   "source": [
    "#### Which tracks have their danceability score above 0.7?"
   ]
  },
  {
   "cell_type": "markdown",
   "metadata": {},
   "source": [
    "<p> In the cell below we are assigning a variable and sorting in descending order its values along 'danceability' column. Also assigning another variable to give out tracks that are true for the mask and returning contents of track_name and danceability. <br>\n",
    "    In the output we get position index, track_name and danceability score giving tracks with danceability scores above 0.7. <p>\n",
    "\n",
    "\n",
    " "
   ]
  },
  {
   "cell_type": "code",
   "execution_count": 104,
   "metadata": {},
   "outputs": [
    {
     "data": {
      "text/html": [
       "<div>\n",
       "<style scoped>\n",
       "    .dataframe tbody tr th:only-of-type {\n",
       "        vertical-align: middle;\n",
       "    }\n",
       "\n",
       "    .dataframe tbody tr th {\n",
       "        vertical-align: top;\n",
       "    }\n",
       "\n",
       "    .dataframe thead th {\n",
       "        text-align: right;\n",
       "    }\n",
       "</style>\n",
       "<table border=\"1\" class=\"dataframe\">\n",
       "  <thead>\n",
       "    <tr style=\"text-align: right;\">\n",
       "      <th></th>\n",
       "      <th>track_name</th>\n",
       "      <th>danceability</th>\n",
       "    </tr>\n",
       "    <tr>\n",
       "      <th>position</th>\n",
       "      <th></th>\n",
       "      <th></th>\n",
       "    </tr>\n",
       "  </thead>\n",
       "  <tbody>\n",
       "    <tr>\n",
       "      <th>28</th>\n",
       "      <td>WAP (feat. Megan Thee Stallion)</td>\n",
       "      <td>0.935</td>\n",
       "    </tr>\n",
       "    <tr>\n",
       "      <th>3</th>\n",
       "      <td>The Box</td>\n",
       "      <td>0.896</td>\n",
       "    </tr>\n",
       "    <tr>\n",
       "      <th>40</th>\n",
       "      <td>Ride It</td>\n",
       "      <td>0.880</td>\n",
       "    </tr>\n",
       "    <tr>\n",
       "      <th>29</th>\n",
       "      <td>Sunday Best</td>\n",
       "      <td>0.878</td>\n",
       "    </tr>\n",
       "    <tr>\n",
       "      <th>34</th>\n",
       "      <td>Supalonely (feat. Gus Dapperton)</td>\n",
       "      <td>0.862</td>\n",
       "    </tr>\n",
       "    <tr>\n",
       "      <th>41</th>\n",
       "      <td>goosebumps</td>\n",
       "      <td>0.841</td>\n",
       "    </tr>\n",
       "    <tr>\n",
       "      <th>50</th>\n",
       "      <td>SICKO MODE</td>\n",
       "      <td>0.834</td>\n",
       "    </tr>\n",
       "    <tr>\n",
       "      <th>16</th>\n",
       "      <td>Toosie Slide</td>\n",
       "      <td>0.830</td>\n",
       "    </tr>\n",
       "    <tr>\n",
       "      <th>2</th>\n",
       "      <td>Dance Monkey</td>\n",
       "      <td>0.825</td>\n",
       "    </tr>\n",
       "    <tr>\n",
       "      <th>30</th>\n",
       "      <td>Godzilla (feat. Juice WRLD)</td>\n",
       "      <td>0.808</td>\n",
       "    </tr>\n",
       "    <tr>\n",
       "      <th>15</th>\n",
       "      <td>Intentions (feat. Quavo)</td>\n",
       "      <td>0.806</td>\n",
       "    </tr>\n",
       "    <tr>\n",
       "      <th>11</th>\n",
       "      <td>Tusa</td>\n",
       "      <td>0.803</td>\n",
       "    </tr>\n",
       "    <tr>\n",
       "      <th>20</th>\n",
       "      <td>Life Is Good (feat. Drake)</td>\n",
       "      <td>0.795</td>\n",
       "    </tr>\n",
       "    <tr>\n",
       "      <th>5</th>\n",
       "      <td>Don't Start Now</td>\n",
       "      <td>0.793</td>\n",
       "    </tr>\n",
       "    <tr>\n",
       "      <th>23</th>\n",
       "      <td>Breaking Me</td>\n",
       "      <td>0.789</td>\n",
       "    </tr>\n",
       "    <tr>\n",
       "      <th>18</th>\n",
       "      <td>Say So</td>\n",
       "      <td>0.787</td>\n",
       "    </tr>\n",
       "    <tr>\n",
       "      <th>4</th>\n",
       "      <td>Roses - Imanbek Remix</td>\n",
       "      <td>0.785</td>\n",
       "    </tr>\n",
       "    <tr>\n",
       "      <th>9</th>\n",
       "      <td>Falling</td>\n",
       "      <td>0.784</td>\n",
       "    </tr>\n",
       "    <tr>\n",
       "      <th>39</th>\n",
       "      <td>Hawái</td>\n",
       "      <td>0.783</td>\n",
       "    </tr>\n",
       "    <tr>\n",
       "      <th>14</th>\n",
       "      <td>Blueberry Faygo</td>\n",
       "      <td>0.774</td>\n",
       "    </tr>\n",
       "    <tr>\n",
       "      <th>21</th>\n",
       "      <td>Savage Love (Laxed - Siren Beat)</td>\n",
       "      <td>0.767</td>\n",
       "    </tr>\n",
       "    <tr>\n",
       "      <th>19</th>\n",
       "      <td>Memories</td>\n",
       "      <td>0.764</td>\n",
       "    </tr>\n",
       "    <tr>\n",
       "      <th>26</th>\n",
       "      <td>Señorita</td>\n",
       "      <td>0.759</td>\n",
       "    </tr>\n",
       "    <tr>\n",
       "      <th>38</th>\n",
       "      <td>Sunflower - Spider-Man: Into the Spider-Verse</td>\n",
       "      <td>0.755</td>\n",
       "    </tr>\n",
       "    <tr>\n",
       "      <th>33</th>\n",
       "      <td>Dynamite</td>\n",
       "      <td>0.746</td>\n",
       "    </tr>\n",
       "    <tr>\n",
       "      <th>6</th>\n",
       "      <td>ROCKSTAR (feat. Roddy Ricch)</td>\n",
       "      <td>0.746</td>\n",
       "    </tr>\n",
       "    <tr>\n",
       "      <th>32</th>\n",
       "      <td>Break My Heart</td>\n",
       "      <td>0.730</td>\n",
       "    </tr>\n",
       "    <tr>\n",
       "      <th>8</th>\n",
       "      <td>death bed (coffee for your head)</td>\n",
       "      <td>0.726</td>\n",
       "    </tr>\n",
       "    <tr>\n",
       "      <th>42</th>\n",
       "      <td>RITMO (Bad Boys For Life)</td>\n",
       "      <td>0.723</td>\n",
       "    </tr>\n",
       "    <tr>\n",
       "      <th>43</th>\n",
       "      <td>THE SCOTTS</td>\n",
       "      <td>0.716</td>\n",
       "    </tr>\n",
       "    <tr>\n",
       "      <th>25</th>\n",
       "      <td>everything i wanted</td>\n",
       "      <td>0.704</td>\n",
       "    </tr>\n",
       "    <tr>\n",
       "      <th>27</th>\n",
       "      <td>bad guy</td>\n",
       "      <td>0.701</td>\n",
       "    </tr>\n",
       "  </tbody>\n",
       "</table>\n",
       "</div>"
      ],
      "text/plain": [
       "                                             track_name  danceability\n",
       "position                                                             \n",
       "28                      WAP (feat. Megan Thee Stallion)         0.935\n",
       "3                                               The Box         0.896\n",
       "40                                              Ride It         0.880\n",
       "29                                          Sunday Best         0.878\n",
       "34                     Supalonely (feat. Gus Dapperton)         0.862\n",
       "41                                           goosebumps         0.841\n",
       "50                                           SICKO MODE         0.834\n",
       "16                                         Toosie Slide         0.830\n",
       "2                                          Dance Monkey         0.825\n",
       "30                          Godzilla (feat. Juice WRLD)         0.808\n",
       "15                             Intentions (feat. Quavo)         0.806\n",
       "11                                                 Tusa         0.803\n",
       "20                           Life Is Good (feat. Drake)         0.795\n",
       "5                                       Don't Start Now         0.793\n",
       "23                                          Breaking Me         0.789\n",
       "18                                               Say So         0.787\n",
       "4                                 Roses - Imanbek Remix         0.785\n",
       "9                                               Falling         0.784\n",
       "39                                                Hawái         0.783\n",
       "14                                      Blueberry Faygo         0.774\n",
       "21                     Savage Love (Laxed - Siren Beat)         0.767\n",
       "19                                             Memories         0.764\n",
       "26                                             Señorita         0.759\n",
       "38        Sunflower - Spider-Man: Into the Spider-Verse         0.755\n",
       "33                                             Dynamite         0.746\n",
       "6                          ROCKSTAR (feat. Roddy Ricch)         0.746\n",
       "32                                       Break My Heart         0.730\n",
       "8                      death bed (coffee for your head)         0.726\n",
       "42                            RITMO (Bad Boys For Life)         0.723\n",
       "43                                           THE SCOTTS         0.716\n",
       "25                                  everything i wanted         0.704\n",
       "27                                              bad guy         0.701"
      ]
     },
     "execution_count": 104,
     "metadata": {},
     "output_type": "execute_result"
    }
   ],
   "source": [
    "df_sorted_by_danceability = df.sort_values('danceability', ascending = False)\n",
    "high_danceability = df_sorted_by_danceability[(df_sorted_by_danceability['danceability'] > 0.7)]\n",
    "high_danceability[['track_name', 'danceability']]"
   ]
  },
  {
   "cell_type": "markdown",
   "metadata": {},
   "source": [
    "#### Which tracks have their danceability score below 0.4?"
   ]
  },
  {
   "cell_type": "markdown",
   "metadata": {},
   "source": [
    "In the cell below we are assigning a variable to give out tracks that are true for the mask. <br>\n",
    "In the output we get position index, track_name and danceability score giving one track with danceability score below 0.4."
   ]
  },
  {
   "cell_type": "code",
   "execution_count": 105,
   "metadata": {},
   "outputs": [
    {
     "data": {
      "text/html": [
       "<div>\n",
       "<style scoped>\n",
       "    .dataframe tbody tr th:only-of-type {\n",
       "        vertical-align: middle;\n",
       "    }\n",
       "\n",
       "    .dataframe tbody tr th {\n",
       "        vertical-align: top;\n",
       "    }\n",
       "\n",
       "    .dataframe thead th {\n",
       "        text-align: right;\n",
       "    }\n",
       "</style>\n",
       "<table border=\"1\" class=\"dataframe\">\n",
       "  <thead>\n",
       "    <tr style=\"text-align: right;\">\n",
       "      <th></th>\n",
       "      <th>track_name</th>\n",
       "      <th>danceability</th>\n",
       "    </tr>\n",
       "    <tr>\n",
       "      <th>position</th>\n",
       "      <th></th>\n",
       "      <th></th>\n",
       "    </tr>\n",
       "  </thead>\n",
       "  <tbody>\n",
       "    <tr>\n",
       "      <th>45</th>\n",
       "      <td>lovely (with Khalid)</td>\n",
       "      <td>0.351</td>\n",
       "    </tr>\n",
       "  </tbody>\n",
       "</table>\n",
       "</div>"
      ],
      "text/plain": [
       "                    track_name  danceability\n",
       "position                                    \n",
       "45        lovely (with Khalid)         0.351"
      ]
     },
     "execution_count": 105,
     "metadata": {},
     "output_type": "execute_result"
    }
   ],
   "source": [
    "low_danceability = df_sorted_by_danceability[(df_sorted_by_danceability['danceability'] < 0.4)]\n",
    "low_danceability[['track_name', 'danceability']]"
   ]
  },
  {
   "cell_type": "markdown",
   "metadata": {},
   "source": [
    "#### Which tracks have their loudness above -5?"
   ]
  },
  {
   "cell_type": "markdown",
   "metadata": {},
   "source": [
    "In the cell below we are assigning a variable and sorting in descending order its values along 'loudness' column. Also assigning another variable to give out tracks that are true for the mask and returning contents of track_name and loudness. <br>\n",
    "In the output we get position index, track_name and loudness score giving tracks with loudness scores above -5. Total of 19."
   ]
  },
  {
   "cell_type": "code",
   "execution_count": 106,
   "metadata": {},
   "outputs": [
    {
     "data": {
      "text/html": [
       "<div>\n",
       "<style scoped>\n",
       "    .dataframe tbody tr th:only-of-type {\n",
       "        vertical-align: middle;\n",
       "    }\n",
       "\n",
       "    .dataframe tbody tr th {\n",
       "        vertical-align: top;\n",
       "    }\n",
       "\n",
       "    .dataframe thead th {\n",
       "        text-align: right;\n",
       "    }\n",
       "</style>\n",
       "<table border=\"1\" class=\"dataframe\">\n",
       "  <thead>\n",
       "    <tr style=\"text-align: right;\">\n",
       "      <th></th>\n",
       "      <th>track_name</th>\n",
       "      <th>loudness</th>\n",
       "    </tr>\n",
       "    <tr>\n",
       "      <th>position</th>\n",
       "      <th></th>\n",
       "      <th></th>\n",
       "    </tr>\n",
       "  </thead>\n",
       "  <tbody>\n",
       "    <tr>\n",
       "      <th>11</th>\n",
       "      <td>Tusa</td>\n",
       "      <td>-3.280</td>\n",
       "    </tr>\n",
       "    <tr>\n",
       "      <th>41</th>\n",
       "      <td>goosebumps</td>\n",
       "      <td>-3.370</td>\n",
       "    </tr>\n",
       "    <tr>\n",
       "      <th>32</th>\n",
       "      <td>Break My Heart</td>\n",
       "      <td>-3.434</td>\n",
       "    </tr>\n",
       "    <tr>\n",
       "      <th>39</th>\n",
       "      <td>Hawái</td>\n",
       "      <td>-3.454</td>\n",
       "    </tr>\n",
       "    <tr>\n",
       "      <th>13</th>\n",
       "      <td>Circles</td>\n",
       "      <td>-3.497</td>\n",
       "    </tr>\n",
       "    <tr>\n",
       "      <th>24</th>\n",
       "      <td>Mood (feat. iann dior)</td>\n",
       "      <td>-3.558</td>\n",
       "    </tr>\n",
       "    <tr>\n",
       "      <th>22</th>\n",
       "      <td>Adore You</td>\n",
       "      <td>-3.675</td>\n",
       "    </tr>\n",
       "    <tr>\n",
       "      <th>50</th>\n",
       "      <td>SICKO MODE</td>\n",
       "      <td>-3.714</td>\n",
       "    </tr>\n",
       "    <tr>\n",
       "      <th>49</th>\n",
       "      <td>Physical</td>\n",
       "      <td>-3.756</td>\n",
       "    </tr>\n",
       "    <tr>\n",
       "      <th>36</th>\n",
       "      <td>Rain On Me (with Ariana Grande)</td>\n",
       "      <td>-3.764</td>\n",
       "    </tr>\n",
       "    <tr>\n",
       "      <th>44</th>\n",
       "      <td>Safaera</td>\n",
       "      <td>-4.074</td>\n",
       "    </tr>\n",
       "    <tr>\n",
       "      <th>7</th>\n",
       "      <td>Watermelon Sugar</td>\n",
       "      <td>-4.209</td>\n",
       "    </tr>\n",
       "    <tr>\n",
       "      <th>40</th>\n",
       "      <td>Ride It</td>\n",
       "      <td>-4.258</td>\n",
       "    </tr>\n",
       "    <tr>\n",
       "      <th>38</th>\n",
       "      <td>Sunflower - Spider-Man: Into the Spider-Verse</td>\n",
       "      <td>-4.368</td>\n",
       "    </tr>\n",
       "    <tr>\n",
       "      <th>33</th>\n",
       "      <td>Dynamite</td>\n",
       "      <td>-4.410</td>\n",
       "    </tr>\n",
       "    <tr>\n",
       "      <th>5</th>\n",
       "      <td>Don't Start Now</td>\n",
       "      <td>-4.521</td>\n",
       "    </tr>\n",
       "    <tr>\n",
       "      <th>18</th>\n",
       "      <td>Say So</td>\n",
       "      <td>-4.577</td>\n",
       "    </tr>\n",
       "    <tr>\n",
       "      <th>34</th>\n",
       "      <td>Supalonely (feat. Gus Dapperton)</td>\n",
       "      <td>-4.746</td>\n",
       "    </tr>\n",
       "    <tr>\n",
       "      <th>17</th>\n",
       "      <td>Before You Go</td>\n",
       "      <td>-4.858</td>\n",
       "    </tr>\n",
       "  </tbody>\n",
       "</table>\n",
       "</div>"
      ],
      "text/plain": [
       "                                             track_name  loudness\n",
       "position                                                         \n",
       "11                                                 Tusa    -3.280\n",
       "41                                           goosebumps    -3.370\n",
       "32                                       Break My Heart    -3.434\n",
       "39                                                Hawái    -3.454\n",
       "13                                              Circles    -3.497\n",
       "24                               Mood (feat. iann dior)    -3.558\n",
       "22                                            Adore You    -3.675\n",
       "50                                           SICKO MODE    -3.714\n",
       "49                                             Physical    -3.756\n",
       "36                      Rain On Me (with Ariana Grande)    -3.764\n",
       "44                                              Safaera    -4.074\n",
       "7                                      Watermelon Sugar    -4.209\n",
       "40                                              Ride It    -4.258\n",
       "38        Sunflower - Spider-Man: Into the Spider-Verse    -4.368\n",
       "33                                             Dynamite    -4.410\n",
       "5                                       Don't Start Now    -4.521\n",
       "18                                               Say So    -4.577\n",
       "34                     Supalonely (feat. Gus Dapperton)    -4.746\n",
       "17                                        Before You Go    -4.858"
      ]
     },
     "execution_count": 106,
     "metadata": {},
     "output_type": "execute_result"
    }
   ],
   "source": [
    "df_sorted_by_loudness = df.sort_values('loudness', ascending = False)\n",
    "high_loudness = df_sorted_by_loudness[(df_sorted_by_loudness['loudness'] > -5.)]\n",
    "high_loudness[['track_name', 'loudness']]"
   ]
  },
  {
   "cell_type": "markdown",
   "metadata": {},
   "source": [
    "#### Which tracks have their loudness below -8?"
   ]
  },
  {
   "cell_type": "markdown",
   "metadata": {},
   "source": [
    "In the cell below we are assigning a variable to give out tracks that are true for the mask and returning contents of track_name and loudness. <br>\n",
    "In the output we get position index, track_name and loudness score giving tracks with loudness scores below -8. 9 in total."
   ]
  },
  {
   "cell_type": "code",
   "execution_count": 107,
   "metadata": {},
   "outputs": [
    {
     "data": {
      "text/html": [
       "<div>\n",
       "<style scoped>\n",
       "    .dataframe tbody tr th:only-of-type {\n",
       "        vertical-align: middle;\n",
       "    }\n",
       "\n",
       "    .dataframe tbody tr th {\n",
       "        vertical-align: top;\n",
       "    }\n",
       "\n",
       "    .dataframe thead th {\n",
       "        text-align: right;\n",
       "    }\n",
       "</style>\n",
       "<table border=\"1\" class=\"dataframe\">\n",
       "  <thead>\n",
       "    <tr style=\"text-align: right;\">\n",
       "      <th></th>\n",
       "      <th>track_name</th>\n",
       "      <th>loudness</th>\n",
       "    </tr>\n",
       "    <tr>\n",
       "      <th>position</th>\n",
       "      <th></th>\n",
       "      <th></th>\n",
       "    </tr>\n",
       "  </thead>\n",
       "  <tbody>\n",
       "    <tr>\n",
       "      <th>21</th>\n",
       "      <td>Savage Love (Laxed - Siren Beat)</td>\n",
       "      <td>-8.520</td>\n",
       "    </tr>\n",
       "    <tr>\n",
       "      <th>9</th>\n",
       "      <td>Falling</td>\n",
       "      <td>-8.756</td>\n",
       "    </tr>\n",
       "    <tr>\n",
       "      <th>37</th>\n",
       "      <td>HIGHEST IN THE ROOM</td>\n",
       "      <td>-8.764</td>\n",
       "    </tr>\n",
       "    <tr>\n",
       "      <th>8</th>\n",
       "      <td>death bed (coffee for your head)</td>\n",
       "      <td>-8.765</td>\n",
       "    </tr>\n",
       "    <tr>\n",
       "      <th>16</th>\n",
       "      <td>Toosie Slide</td>\n",
       "      <td>-8.820</td>\n",
       "    </tr>\n",
       "    <tr>\n",
       "      <th>48</th>\n",
       "      <td>If the World Was Ending - feat. Julia Michaels</td>\n",
       "      <td>-10.086</td>\n",
       "    </tr>\n",
       "    <tr>\n",
       "      <th>45</th>\n",
       "      <td>lovely (with Khalid)</td>\n",
       "      <td>-10.109</td>\n",
       "    </tr>\n",
       "    <tr>\n",
       "      <th>27</th>\n",
       "      <td>bad guy</td>\n",
       "      <td>-10.965</td>\n",
       "    </tr>\n",
       "    <tr>\n",
       "      <th>25</th>\n",
       "      <td>everything i wanted</td>\n",
       "      <td>-14.454</td>\n",
       "    </tr>\n",
       "  </tbody>\n",
       "</table>\n",
       "</div>"
      ],
      "text/plain": [
       "                                              track_name  loudness\n",
       "position                                                          \n",
       "21                      Savage Love (Laxed - Siren Beat)    -8.520\n",
       "9                                                Falling    -8.756\n",
       "37                                   HIGHEST IN THE ROOM    -8.764\n",
       "8                       death bed (coffee for your head)    -8.765\n",
       "16                                          Toosie Slide    -8.820\n",
       "48        If the World Was Ending - feat. Julia Michaels   -10.086\n",
       "45                                  lovely (with Khalid)   -10.109\n",
       "27                                               bad guy   -10.965\n",
       "25                                   everything i wanted   -14.454"
      ]
     },
     "execution_count": 107,
     "metadata": {},
     "output_type": "execute_result"
    }
   ],
   "source": [
    "low_loudness = df_sorted_by_loudness[(df_sorted_by_loudness['loudness'] < -8.)]\n",
    "low_loudness[['track_name', 'loudness']]"
   ]
  },
  {
   "cell_type": "markdown",
   "metadata": {},
   "source": [
    "### 3. Examination of track lengths and genre popularities"
   ]
  },
  {
   "cell_type": "markdown",
   "metadata": {},
   "source": [
    "#### Which track is the longest?"
   ]
  },
  {
   "cell_type": "markdown",
   "metadata": {},
   "source": [
    "<p> In the cell below we are splitting dataframe into track_name groups that are grouped according to duration_ms feature and sorting the values in descending order. Returns the longest track. <br>\n",
    "    In the output we get the longest track_name with its duration_ms score - SICKO MODE    312820 <p>"
   ]
  },
  {
   "cell_type": "code",
   "execution_count": 108,
   "metadata": {},
   "outputs": [
    {
     "data": {
      "text/plain": [
       "track_name\n",
       "SICKO MODE    312820\n",
       "Name: duration_ms, dtype: int64"
      ]
     },
     "execution_count": 108,
     "metadata": {},
     "output_type": "execute_result"
    }
   ],
   "source": [
    "longest_track = df.groupby(['track_name'])['duration_ms'].aggregate('max').sort_values(ascending=False)\n",
    "longest_track[:1]\n",
    "\n",
    "# Alternative way:\n",
    "# df['duration_ms'].max()"
   ]
  },
  {
   "cell_type": "markdown",
   "metadata": {},
   "source": [
    "#### Which track is the shortest?"
   ]
  },
  {
   "cell_type": "markdown",
   "metadata": {},
   "source": [
    "In the cell below assigning a variable to give back the shortest track through min() function and returning its contents. <br>\n",
    "Output gives position index, track_name, artist and its duration_ms score - 24 Mood (feat. iann dior) 24kGoldn 140526"
   ]
  },
  {
   "cell_type": "code",
   "execution_count": 109,
   "metadata": {},
   "outputs": [
    {
     "data": {
      "text/html": [
       "<div>\n",
       "<style scoped>\n",
       "    .dataframe tbody tr th:only-of-type {\n",
       "        vertical-align: middle;\n",
       "    }\n",
       "\n",
       "    .dataframe tbody tr th {\n",
       "        vertical-align: top;\n",
       "    }\n",
       "\n",
       "    .dataframe thead th {\n",
       "        text-align: right;\n",
       "    }\n",
       "</style>\n",
       "<table border=\"1\" class=\"dataframe\">\n",
       "  <thead>\n",
       "    <tr style=\"text-align: right;\">\n",
       "      <th></th>\n",
       "      <th>track_name</th>\n",
       "      <th>artist</th>\n",
       "      <th>duration_ms</th>\n",
       "    </tr>\n",
       "    <tr>\n",
       "      <th>position</th>\n",
       "      <th></th>\n",
       "      <th></th>\n",
       "      <th></th>\n",
       "    </tr>\n",
       "  </thead>\n",
       "  <tbody>\n",
       "    <tr>\n",
       "      <th>24</th>\n",
       "      <td>Mood (feat. iann dior)</td>\n",
       "      <td>24kGoldn</td>\n",
       "      <td>140526</td>\n",
       "    </tr>\n",
       "  </tbody>\n",
       "</table>\n",
       "</div>"
      ],
      "text/plain": [
       "                      track_name    artist  duration_ms\n",
       "position                                               \n",
       "24        Mood (feat. iann dior)  24kGoldn       140526"
      ]
     },
     "execution_count": 109,
     "metadata": {},
     "output_type": "execute_result"
    }
   ],
   "source": [
    "shortest_track = df[(df['duration_ms'] == df['duration_ms'].min())]\n",
    "shortest_track[['track_name', 'artist', 'duration_ms']]\n",
    "\n",
    "# Alternative way:\n",
    "# short = df.groupby(['track_name', 'artist'])['duration_ms'].aggregate('min').sort_values(ascending=True)\n",
    "# short[:1]"
   ]
  },
  {
   "cell_type": "markdown",
   "metadata": {},
   "source": [
    "#### Which genre is the most popular?"
   ]
  },
  {
   "cell_type": "markdown",
   "metadata": {},
   "source": [
    "In the cell below we are splitting dataframe into genre groups to count its occurrences and sort its values in descending order. Returns the most popular genre. <br>\n",
    "Output returns the most popular genre being Pop with 14 occurrences."
   ]
  },
  {
   "cell_type": "code",
   "execution_count": 110,
   "metadata": {},
   "outputs": [
    {
     "data": {
      "text/plain": [
       "genre\n",
       "Pop    14\n",
       "Name: track_name, dtype: int64"
      ]
     },
     "execution_count": 110,
     "metadata": {},
     "output_type": "execute_result"
    }
   ],
   "source": [
    "genre = df.groupby('genre')['track_name'].aggregate('count').sort_values(ascending=False)\n",
    "genre[:1]"
   ]
  },
  {
   "cell_type": "markdown",
   "metadata": {},
   "source": [
    "#### Which genres have just one song on the top 50?"
   ]
  },
  {
   "cell_type": "markdown",
   "metadata": {},
   "source": [
    "In the cell below we are assigning a variable to give back tracks that are true for the mask and returning its contents. <br>\n",
    "In the output we get least popular genres of all with one track to their name. Total of 10.\n",
    "\n"
   ]
  },
  {
   "cell_type": "code",
   "execution_count": 111,
   "metadata": {},
   "outputs": [
    {
     "data": {
      "text/plain": [
       "genre\n",
       "R&B/Hip-Hop alternative               1\n",
       "Pop/Soft Rock                         1\n",
       "Pop rap                               1\n",
       "Nu-disco                              1\n",
       "Hip-Hop/Trap                          1\n",
       "Dreampop/Hip-Hop/R&B                  1\n",
       "Disco-pop                             1\n",
       "Dance-pop/Disco                       1\n",
       "Chamber pop                           1\n",
       "Alternative/reggaeton/experimental    1\n",
       "Name: track_name, dtype: int64"
      ]
     },
     "execution_count": 111,
     "metadata": {},
     "output_type": "execute_result"
    }
   ],
   "source": [
    "least_popular_genre = genre[(genre[:] < 2)]\n",
    "least_popular_genre"
   ]
  },
  {
   "cell_type": "markdown",
   "metadata": {},
   "source": [
    "#### How many genres in total are represented in the top 50?\n",
    "\n"
   ]
  },
  {
   "cell_type": "markdown",
   "metadata": {},
   "source": [
    "In the cell below we are counting over all rows of a column of an updated genre series. <br>\n",
    "The output gives 16, which means that there are 16 unique genres that have their songs in the top 50."
   ]
  },
  {
   "cell_type": "code",
   "execution_count": 112,
   "metadata": {},
   "outputs": [
    {
     "data": {
      "text/plain": [
       "16"
      ]
     },
     "execution_count": 112,
     "metadata": {},
     "output_type": "execute_result"
    }
   ],
   "source": [
    "genre[:].count()\n",
    "\n",
    "# Alternative ways:\n",
    "# genre.iloc[:].count()\n",
    "# genre.count()"
   ]
  },
  {
   "cell_type": "markdown",
   "metadata": {},
   "source": [
    "# Correlation calculations"
   ]
  },
  {
   "cell_type": "markdown",
   "metadata": {},
   "source": [
    "In the cell below we are assigning a variable that calculates correlations between numeric features using Pearson correlation. <br>\n",
    "In the output we get a dataframe with Pearson correlation scores.\n",
    "\n"
   ]
  },
  {
   "cell_type": "code",
   "execution_count": 113,
   "metadata": {},
   "outputs": [
    {
     "data": {
      "text/html": [
       "<div>\n",
       "<style scoped>\n",
       "    .dataframe tbody tr th:only-of-type {\n",
       "        vertical-align: middle;\n",
       "    }\n",
       "\n",
       "    .dataframe tbody tr th {\n",
       "        vertical-align: top;\n",
       "    }\n",
       "\n",
       "    .dataframe thead th {\n",
       "        text-align: right;\n",
       "    }\n",
       "</style>\n",
       "<table border=\"1\" class=\"dataframe\">\n",
       "  <thead>\n",
       "    <tr style=\"text-align: right;\">\n",
       "      <th></th>\n",
       "      <th>energy</th>\n",
       "      <th>danceability</th>\n",
       "      <th>key</th>\n",
       "      <th>loudness</th>\n",
       "      <th>acousticness</th>\n",
       "      <th>speechiness</th>\n",
       "      <th>instrumentalness</th>\n",
       "      <th>liveness</th>\n",
       "      <th>valence</th>\n",
       "      <th>tempo</th>\n",
       "      <th>duration_ms</th>\n",
       "    </tr>\n",
       "  </thead>\n",
       "  <tbody>\n",
       "    <tr>\n",
       "      <th>energy</th>\n",
       "      <td>1.000000</td>\n",
       "      <td>0.152552</td>\n",
       "      <td>0.062428</td>\n",
       "      <td>0.791640</td>\n",
       "      <td>-0.682479</td>\n",
       "      <td>0.074267</td>\n",
       "      <td>-0.385515</td>\n",
       "      <td>0.069487</td>\n",
       "      <td>0.393453</td>\n",
       "      <td>0.075191</td>\n",
       "      <td>0.081971</td>\n",
       "    </tr>\n",
       "    <tr>\n",
       "      <th>danceability</th>\n",
       "      <td>0.152552</td>\n",
       "      <td>1.000000</td>\n",
       "      <td>0.285036</td>\n",
       "      <td>0.167147</td>\n",
       "      <td>-0.359135</td>\n",
       "      <td>0.226148</td>\n",
       "      <td>-0.017706</td>\n",
       "      <td>-0.006648</td>\n",
       "      <td>0.479953</td>\n",
       "      <td>0.168956</td>\n",
       "      <td>-0.033763</td>\n",
       "    </tr>\n",
       "    <tr>\n",
       "      <th>key</th>\n",
       "      <td>0.062428</td>\n",
       "      <td>0.285036</td>\n",
       "      <td>1.000000</td>\n",
       "      <td>-0.009178</td>\n",
       "      <td>-0.113394</td>\n",
       "      <td>-0.094965</td>\n",
       "      <td>0.020802</td>\n",
       "      <td>0.278672</td>\n",
       "      <td>0.120007</td>\n",
       "      <td>0.080475</td>\n",
       "      <td>-0.003345</td>\n",
       "    </tr>\n",
       "    <tr>\n",
       "      <th>loudness</th>\n",
       "      <td>0.791640</td>\n",
       "      <td>0.167147</td>\n",
       "      <td>-0.009178</td>\n",
       "      <td>1.000000</td>\n",
       "      <td>-0.498695</td>\n",
       "      <td>-0.021693</td>\n",
       "      <td>-0.553735</td>\n",
       "      <td>-0.069939</td>\n",
       "      <td>0.406772</td>\n",
       "      <td>0.102097</td>\n",
       "      <td>0.064130</td>\n",
       "    </tr>\n",
       "    <tr>\n",
       "      <th>acousticness</th>\n",
       "      <td>-0.682479</td>\n",
       "      <td>-0.359135</td>\n",
       "      <td>-0.113394</td>\n",
       "      <td>-0.498695</td>\n",
       "      <td>1.000000</td>\n",
       "      <td>-0.135392</td>\n",
       "      <td>0.352184</td>\n",
       "      <td>-0.128384</td>\n",
       "      <td>-0.243192</td>\n",
       "      <td>-0.241119</td>\n",
       "      <td>-0.010988</td>\n",
       "    </tr>\n",
       "    <tr>\n",
       "      <th>speechiness</th>\n",
       "      <td>0.074267</td>\n",
       "      <td>0.226148</td>\n",
       "      <td>-0.094965</td>\n",
       "      <td>-0.021693</td>\n",
       "      <td>-0.135392</td>\n",
       "      <td>1.000000</td>\n",
       "      <td>0.028948</td>\n",
       "      <td>-0.142957</td>\n",
       "      <td>0.053867</td>\n",
       "      <td>0.215504</td>\n",
       "      <td>0.366976</td>\n",
       "    </tr>\n",
       "    <tr>\n",
       "      <th>instrumentalness</th>\n",
       "      <td>-0.385515</td>\n",
       "      <td>-0.017706</td>\n",
       "      <td>0.020802</td>\n",
       "      <td>-0.553735</td>\n",
       "      <td>0.352184</td>\n",
       "      <td>0.028948</td>\n",
       "      <td>1.000000</td>\n",
       "      <td>-0.087034</td>\n",
       "      <td>-0.203283</td>\n",
       "      <td>0.018853</td>\n",
       "      <td>0.184709</td>\n",
       "    </tr>\n",
       "    <tr>\n",
       "      <th>liveness</th>\n",
       "      <td>0.069487</td>\n",
       "      <td>-0.006648</td>\n",
       "      <td>0.278672</td>\n",
       "      <td>-0.069939</td>\n",
       "      <td>-0.128384</td>\n",
       "      <td>-0.142957</td>\n",
       "      <td>-0.087034</td>\n",
       "      <td>1.000000</td>\n",
       "      <td>-0.033366</td>\n",
       "      <td>0.025457</td>\n",
       "      <td>-0.090188</td>\n",
       "    </tr>\n",
       "    <tr>\n",
       "      <th>valence</th>\n",
       "      <td>0.393453</td>\n",
       "      <td>0.479953</td>\n",
       "      <td>0.120007</td>\n",
       "      <td>0.406772</td>\n",
       "      <td>-0.243192</td>\n",
       "      <td>0.053867</td>\n",
       "      <td>-0.203283</td>\n",
       "      <td>-0.033366</td>\n",
       "      <td>1.000000</td>\n",
       "      <td>0.045089</td>\n",
       "      <td>-0.039794</td>\n",
       "    </tr>\n",
       "    <tr>\n",
       "      <th>tempo</th>\n",
       "      <td>0.075191</td>\n",
       "      <td>0.168956</td>\n",
       "      <td>0.080475</td>\n",
       "      <td>0.102097</td>\n",
       "      <td>-0.241119</td>\n",
       "      <td>0.215504</td>\n",
       "      <td>0.018853</td>\n",
       "      <td>0.025457</td>\n",
       "      <td>0.045089</td>\n",
       "      <td>1.000000</td>\n",
       "      <td>0.130328</td>\n",
       "    </tr>\n",
       "    <tr>\n",
       "      <th>duration_ms</th>\n",
       "      <td>0.081971</td>\n",
       "      <td>-0.033763</td>\n",
       "      <td>-0.003345</td>\n",
       "      <td>0.064130</td>\n",
       "      <td>-0.010988</td>\n",
       "      <td>0.366976</td>\n",
       "      <td>0.184709</td>\n",
       "      <td>-0.090188</td>\n",
       "      <td>-0.039794</td>\n",
       "      <td>0.130328</td>\n",
       "      <td>1.000000</td>\n",
       "    </tr>\n",
       "  </tbody>\n",
       "</table>\n",
       "</div>"
      ],
      "text/plain": [
       "                    energy  danceability       key  loudness  acousticness  \\\n",
       "energy            1.000000      0.152552  0.062428  0.791640     -0.682479   \n",
       "danceability      0.152552      1.000000  0.285036  0.167147     -0.359135   \n",
       "key               0.062428      0.285036  1.000000 -0.009178     -0.113394   \n",
       "loudness          0.791640      0.167147 -0.009178  1.000000     -0.498695   \n",
       "acousticness     -0.682479     -0.359135 -0.113394 -0.498695      1.000000   \n",
       "speechiness       0.074267      0.226148 -0.094965 -0.021693     -0.135392   \n",
       "instrumentalness -0.385515     -0.017706  0.020802 -0.553735      0.352184   \n",
       "liveness          0.069487     -0.006648  0.278672 -0.069939     -0.128384   \n",
       "valence           0.393453      0.479953  0.120007  0.406772     -0.243192   \n",
       "tempo             0.075191      0.168956  0.080475  0.102097     -0.241119   \n",
       "duration_ms       0.081971     -0.033763 -0.003345  0.064130     -0.010988   \n",
       "\n",
       "                  speechiness  instrumentalness  liveness   valence     tempo  \\\n",
       "energy               0.074267         -0.385515  0.069487  0.393453  0.075191   \n",
       "danceability         0.226148         -0.017706 -0.006648  0.479953  0.168956   \n",
       "key                 -0.094965          0.020802  0.278672  0.120007  0.080475   \n",
       "loudness            -0.021693         -0.553735 -0.069939  0.406772  0.102097   \n",
       "acousticness        -0.135392          0.352184 -0.128384 -0.243192 -0.241119   \n",
       "speechiness          1.000000          0.028948 -0.142957  0.053867  0.215504   \n",
       "instrumentalness     0.028948          1.000000 -0.087034 -0.203283  0.018853   \n",
       "liveness            -0.142957         -0.087034  1.000000 -0.033366  0.025457   \n",
       "valence              0.053867         -0.203283 -0.033366  1.000000  0.045089   \n",
       "tempo                0.215504          0.018853  0.025457  0.045089  1.000000   \n",
       "duration_ms          0.366976          0.184709 -0.090188 -0.039794  0.130328   \n",
       "\n",
       "                  duration_ms  \n",
       "energy               0.081971  \n",
       "danceability        -0.033763  \n",
       "key                 -0.003345  \n",
       "loudness             0.064130  \n",
       "acousticness        -0.010988  \n",
       "speechiness          0.366976  \n",
       "instrumentalness     0.184709  \n",
       "liveness            -0.090188  \n",
       "valence             -0.039794  \n",
       "tempo                0.130328  \n",
       "duration_ms          1.000000  "
      ]
     },
     "execution_count": 113,
     "metadata": {},
     "output_type": "execute_result"
    }
   ],
   "source": [
    "number_correlation = df.corr(method='pearson')\n",
    "number_correlation"
   ]
  },
  {
   "cell_type": "markdown",
   "metadata": {},
   "source": [
    "In the cell below we are identifying feature correlations by removing duplicates and creating a new dataframe to more easily display these correlations in a viewer friendly way. <br>\n",
    "In the output we see rows of indexes, feature_1, feature_2 and correlation columns. Correlation values range from -0.682479 to 0.791640.\n",
    "\n"
   ]
  },
  {
   "cell_type": "code",
   "execution_count": 114,
   "metadata": {},
   "outputs": [
    {
     "name": "stdout",
     "output_type": "stream",
     "text": [
      "            feature_1         feature_2  correlation\n",
      "1              energy      danceability     0.152552\n",
      "2              energy               key     0.062428\n",
      "3              energy          loudness     0.791640\n",
      "4              energy      acousticness    -0.682479\n",
      "5              energy       speechiness     0.074267\n",
      "6              energy  instrumentalness    -0.385515\n",
      "7              energy          liveness     0.069487\n",
      "8              energy           valence     0.393453\n",
      "9              energy             tempo     0.075191\n",
      "10             energy       duration_ms     0.081971\n",
      "13       danceability               key     0.285036\n",
      "14       danceability          loudness     0.167147\n",
      "15       danceability      acousticness    -0.359135\n",
      "16       danceability       speechiness     0.226148\n",
      "17       danceability  instrumentalness    -0.017706\n",
      "18       danceability          liveness    -0.006648\n",
      "19       danceability           valence     0.479953\n",
      "20       danceability             tempo     0.168956\n",
      "21       danceability       duration_ms    -0.033763\n",
      "25                key          loudness    -0.009178\n",
      "26                key      acousticness    -0.113394\n",
      "27                key       speechiness    -0.094965\n",
      "28                key  instrumentalness     0.020802\n",
      "29                key          liveness     0.278672\n",
      "30                key           valence     0.120007\n",
      "31                key             tempo     0.080475\n",
      "32                key       duration_ms    -0.003345\n",
      "37           loudness      acousticness    -0.498695\n",
      "38           loudness       speechiness    -0.021693\n",
      "39           loudness  instrumentalness    -0.553735\n",
      "40           loudness          liveness    -0.069939\n",
      "41           loudness           valence     0.406772\n",
      "42           loudness             tempo     0.102097\n",
      "43           loudness       duration_ms     0.064130\n",
      "49       acousticness       speechiness    -0.135392\n",
      "50       acousticness  instrumentalness     0.352184\n",
      "51       acousticness          liveness    -0.128384\n",
      "52       acousticness           valence    -0.243192\n",
      "53       acousticness             tempo    -0.241119\n",
      "54       acousticness       duration_ms    -0.010988\n",
      "61        speechiness  instrumentalness     0.028948\n",
      "62        speechiness          liveness    -0.142957\n",
      "63        speechiness           valence     0.053867\n",
      "64        speechiness             tempo     0.215504\n",
      "65        speechiness       duration_ms     0.366976\n",
      "73   instrumentalness          liveness    -0.087034\n",
      "74   instrumentalness           valence    -0.203283\n",
      "75   instrumentalness             tempo     0.018853\n",
      "76   instrumentalness       duration_ms     0.184709\n",
      "85           liveness           valence    -0.033366\n",
      "86           liveness             tempo     0.025457\n",
      "87           liveness       duration_ms    -0.090188\n",
      "97            valence             tempo     0.045089\n",
      "98            valence       duration_ms    -0.039794\n",
      "109             tempo       duration_ms     0.130328\n"
     ]
    }
   ],
   "source": [
    "# Calculating the correlation matrix and reshaping dataframe\n",
    "stacked_correlation = number_correlation.stack().reset_index()\n",
    "\n",
    "# Renaming the columns\n",
    "stacked_correlation.columns = ['feature_1', 'feature_2', 'correlation']\n",
    "\n",
    "# Creating a mask to identify rows with duplicate features\n",
    "mask_corr = (stacked_correlation[['feature_1', 'feature_2']].apply(frozenset, axis=1).duplicated()) | (stacked_correlation['feature_1']==stacked_correlation['feature_2']) \n",
    "\n",
    "# Applying the mask to clean the correlation dataframe\n",
    "stacked_correlation = stacked_correlation[~mask_corr]\n",
    "\n",
    "# Printing updated dataframe \n",
    "print(stacked_correlation)\n"
   ]
  },
  {
   "cell_type": "markdown",
   "metadata": {},
   "source": [
    "In the cell below we are sorting numeric correlations and returning sorted dataframe in descending order. <br>\n",
    "In the output we see rows of indexes, feature_1, feature_2 and correlation columns. Correlation values range from 0.791640 to -0.682479 in descending order.\n",
    "\n"
   ]
  },
  {
   "cell_type": "code",
   "execution_count": 115,
   "metadata": {},
   "outputs": [
    {
     "data": {
      "text/html": [
       "<div>\n",
       "<style scoped>\n",
       "    .dataframe tbody tr th:only-of-type {\n",
       "        vertical-align: middle;\n",
       "    }\n",
       "\n",
       "    .dataframe tbody tr th {\n",
       "        vertical-align: top;\n",
       "    }\n",
       "\n",
       "    .dataframe thead th {\n",
       "        text-align: right;\n",
       "    }\n",
       "</style>\n",
       "<table border=\"1\" class=\"dataframe\">\n",
       "  <thead>\n",
       "    <tr style=\"text-align: right;\">\n",
       "      <th></th>\n",
       "      <th>feature_1</th>\n",
       "      <th>feature_2</th>\n",
       "      <th>correlation</th>\n",
       "    </tr>\n",
       "  </thead>\n",
       "  <tbody>\n",
       "    <tr>\n",
       "      <th>3</th>\n",
       "      <td>energy</td>\n",
       "      <td>loudness</td>\n",
       "      <td>0.791640</td>\n",
       "    </tr>\n",
       "    <tr>\n",
       "      <th>19</th>\n",
       "      <td>danceability</td>\n",
       "      <td>valence</td>\n",
       "      <td>0.479953</td>\n",
       "    </tr>\n",
       "    <tr>\n",
       "      <th>41</th>\n",
       "      <td>loudness</td>\n",
       "      <td>valence</td>\n",
       "      <td>0.406772</td>\n",
       "    </tr>\n",
       "    <tr>\n",
       "      <th>8</th>\n",
       "      <td>energy</td>\n",
       "      <td>valence</td>\n",
       "      <td>0.393453</td>\n",
       "    </tr>\n",
       "    <tr>\n",
       "      <th>65</th>\n",
       "      <td>speechiness</td>\n",
       "      <td>duration_ms</td>\n",
       "      <td>0.366976</td>\n",
       "    </tr>\n",
       "    <tr>\n",
       "      <th>50</th>\n",
       "      <td>acousticness</td>\n",
       "      <td>instrumentalness</td>\n",
       "      <td>0.352184</td>\n",
       "    </tr>\n",
       "    <tr>\n",
       "      <th>13</th>\n",
       "      <td>danceability</td>\n",
       "      <td>key</td>\n",
       "      <td>0.285036</td>\n",
       "    </tr>\n",
       "    <tr>\n",
       "      <th>29</th>\n",
       "      <td>key</td>\n",
       "      <td>liveness</td>\n",
       "      <td>0.278672</td>\n",
       "    </tr>\n",
       "    <tr>\n",
       "      <th>16</th>\n",
       "      <td>danceability</td>\n",
       "      <td>speechiness</td>\n",
       "      <td>0.226148</td>\n",
       "    </tr>\n",
       "    <tr>\n",
       "      <th>64</th>\n",
       "      <td>speechiness</td>\n",
       "      <td>tempo</td>\n",
       "      <td>0.215504</td>\n",
       "    </tr>\n",
       "    <tr>\n",
       "      <th>76</th>\n",
       "      <td>instrumentalness</td>\n",
       "      <td>duration_ms</td>\n",
       "      <td>0.184709</td>\n",
       "    </tr>\n",
       "    <tr>\n",
       "      <th>20</th>\n",
       "      <td>danceability</td>\n",
       "      <td>tempo</td>\n",
       "      <td>0.168956</td>\n",
       "    </tr>\n",
       "    <tr>\n",
       "      <th>14</th>\n",
       "      <td>danceability</td>\n",
       "      <td>loudness</td>\n",
       "      <td>0.167147</td>\n",
       "    </tr>\n",
       "    <tr>\n",
       "      <th>1</th>\n",
       "      <td>energy</td>\n",
       "      <td>danceability</td>\n",
       "      <td>0.152552</td>\n",
       "    </tr>\n",
       "    <tr>\n",
       "      <th>109</th>\n",
       "      <td>tempo</td>\n",
       "      <td>duration_ms</td>\n",
       "      <td>0.130328</td>\n",
       "    </tr>\n",
       "    <tr>\n",
       "      <th>30</th>\n",
       "      <td>key</td>\n",
       "      <td>valence</td>\n",
       "      <td>0.120007</td>\n",
       "    </tr>\n",
       "    <tr>\n",
       "      <th>42</th>\n",
       "      <td>loudness</td>\n",
       "      <td>tempo</td>\n",
       "      <td>0.102097</td>\n",
       "    </tr>\n",
       "    <tr>\n",
       "      <th>10</th>\n",
       "      <td>energy</td>\n",
       "      <td>duration_ms</td>\n",
       "      <td>0.081971</td>\n",
       "    </tr>\n",
       "    <tr>\n",
       "      <th>31</th>\n",
       "      <td>key</td>\n",
       "      <td>tempo</td>\n",
       "      <td>0.080475</td>\n",
       "    </tr>\n",
       "    <tr>\n",
       "      <th>9</th>\n",
       "      <td>energy</td>\n",
       "      <td>tempo</td>\n",
       "      <td>0.075191</td>\n",
       "    </tr>\n",
       "    <tr>\n",
       "      <th>5</th>\n",
       "      <td>energy</td>\n",
       "      <td>speechiness</td>\n",
       "      <td>0.074267</td>\n",
       "    </tr>\n",
       "    <tr>\n",
       "      <th>7</th>\n",
       "      <td>energy</td>\n",
       "      <td>liveness</td>\n",
       "      <td>0.069487</td>\n",
       "    </tr>\n",
       "    <tr>\n",
       "      <th>43</th>\n",
       "      <td>loudness</td>\n",
       "      <td>duration_ms</td>\n",
       "      <td>0.064130</td>\n",
       "    </tr>\n",
       "    <tr>\n",
       "      <th>2</th>\n",
       "      <td>energy</td>\n",
       "      <td>key</td>\n",
       "      <td>0.062428</td>\n",
       "    </tr>\n",
       "    <tr>\n",
       "      <th>63</th>\n",
       "      <td>speechiness</td>\n",
       "      <td>valence</td>\n",
       "      <td>0.053867</td>\n",
       "    </tr>\n",
       "    <tr>\n",
       "      <th>97</th>\n",
       "      <td>valence</td>\n",
       "      <td>tempo</td>\n",
       "      <td>0.045089</td>\n",
       "    </tr>\n",
       "    <tr>\n",
       "      <th>61</th>\n",
       "      <td>speechiness</td>\n",
       "      <td>instrumentalness</td>\n",
       "      <td>0.028948</td>\n",
       "    </tr>\n",
       "    <tr>\n",
       "      <th>86</th>\n",
       "      <td>liveness</td>\n",
       "      <td>tempo</td>\n",
       "      <td>0.025457</td>\n",
       "    </tr>\n",
       "    <tr>\n",
       "      <th>28</th>\n",
       "      <td>key</td>\n",
       "      <td>instrumentalness</td>\n",
       "      <td>0.020802</td>\n",
       "    </tr>\n",
       "    <tr>\n",
       "      <th>75</th>\n",
       "      <td>instrumentalness</td>\n",
       "      <td>tempo</td>\n",
       "      <td>0.018853</td>\n",
       "    </tr>\n",
       "    <tr>\n",
       "      <th>32</th>\n",
       "      <td>key</td>\n",
       "      <td>duration_ms</td>\n",
       "      <td>-0.003345</td>\n",
       "    </tr>\n",
       "    <tr>\n",
       "      <th>18</th>\n",
       "      <td>danceability</td>\n",
       "      <td>liveness</td>\n",
       "      <td>-0.006648</td>\n",
       "    </tr>\n",
       "    <tr>\n",
       "      <th>25</th>\n",
       "      <td>key</td>\n",
       "      <td>loudness</td>\n",
       "      <td>-0.009178</td>\n",
       "    </tr>\n",
       "    <tr>\n",
       "      <th>54</th>\n",
       "      <td>acousticness</td>\n",
       "      <td>duration_ms</td>\n",
       "      <td>-0.010988</td>\n",
       "    </tr>\n",
       "    <tr>\n",
       "      <th>17</th>\n",
       "      <td>danceability</td>\n",
       "      <td>instrumentalness</td>\n",
       "      <td>-0.017706</td>\n",
       "    </tr>\n",
       "    <tr>\n",
       "      <th>38</th>\n",
       "      <td>loudness</td>\n",
       "      <td>speechiness</td>\n",
       "      <td>-0.021693</td>\n",
       "    </tr>\n",
       "    <tr>\n",
       "      <th>85</th>\n",
       "      <td>liveness</td>\n",
       "      <td>valence</td>\n",
       "      <td>-0.033366</td>\n",
       "    </tr>\n",
       "    <tr>\n",
       "      <th>21</th>\n",
       "      <td>danceability</td>\n",
       "      <td>duration_ms</td>\n",
       "      <td>-0.033763</td>\n",
       "    </tr>\n",
       "    <tr>\n",
       "      <th>98</th>\n",
       "      <td>valence</td>\n",
       "      <td>duration_ms</td>\n",
       "      <td>-0.039794</td>\n",
       "    </tr>\n",
       "    <tr>\n",
       "      <th>40</th>\n",
       "      <td>loudness</td>\n",
       "      <td>liveness</td>\n",
       "      <td>-0.069939</td>\n",
       "    </tr>\n",
       "    <tr>\n",
       "      <th>73</th>\n",
       "      <td>instrumentalness</td>\n",
       "      <td>liveness</td>\n",
       "      <td>-0.087034</td>\n",
       "    </tr>\n",
       "    <tr>\n",
       "      <th>87</th>\n",
       "      <td>liveness</td>\n",
       "      <td>duration_ms</td>\n",
       "      <td>-0.090188</td>\n",
       "    </tr>\n",
       "    <tr>\n",
       "      <th>27</th>\n",
       "      <td>key</td>\n",
       "      <td>speechiness</td>\n",
       "      <td>-0.094965</td>\n",
       "    </tr>\n",
       "    <tr>\n",
       "      <th>26</th>\n",
       "      <td>key</td>\n",
       "      <td>acousticness</td>\n",
       "      <td>-0.113394</td>\n",
       "    </tr>\n",
       "    <tr>\n",
       "      <th>51</th>\n",
       "      <td>acousticness</td>\n",
       "      <td>liveness</td>\n",
       "      <td>-0.128384</td>\n",
       "    </tr>\n",
       "    <tr>\n",
       "      <th>49</th>\n",
       "      <td>acousticness</td>\n",
       "      <td>speechiness</td>\n",
       "      <td>-0.135392</td>\n",
       "    </tr>\n",
       "    <tr>\n",
       "      <th>62</th>\n",
       "      <td>speechiness</td>\n",
       "      <td>liveness</td>\n",
       "      <td>-0.142957</td>\n",
       "    </tr>\n",
       "    <tr>\n",
       "      <th>74</th>\n",
       "      <td>instrumentalness</td>\n",
       "      <td>valence</td>\n",
       "      <td>-0.203283</td>\n",
       "    </tr>\n",
       "    <tr>\n",
       "      <th>53</th>\n",
       "      <td>acousticness</td>\n",
       "      <td>tempo</td>\n",
       "      <td>-0.241119</td>\n",
       "    </tr>\n",
       "    <tr>\n",
       "      <th>52</th>\n",
       "      <td>acousticness</td>\n",
       "      <td>valence</td>\n",
       "      <td>-0.243192</td>\n",
       "    </tr>\n",
       "    <tr>\n",
       "      <th>15</th>\n",
       "      <td>danceability</td>\n",
       "      <td>acousticness</td>\n",
       "      <td>-0.359135</td>\n",
       "    </tr>\n",
       "    <tr>\n",
       "      <th>6</th>\n",
       "      <td>energy</td>\n",
       "      <td>instrumentalness</td>\n",
       "      <td>-0.385515</td>\n",
       "    </tr>\n",
       "    <tr>\n",
       "      <th>37</th>\n",
       "      <td>loudness</td>\n",
       "      <td>acousticness</td>\n",
       "      <td>-0.498695</td>\n",
       "    </tr>\n",
       "    <tr>\n",
       "      <th>39</th>\n",
       "      <td>loudness</td>\n",
       "      <td>instrumentalness</td>\n",
       "      <td>-0.553735</td>\n",
       "    </tr>\n",
       "    <tr>\n",
       "      <th>4</th>\n",
       "      <td>energy</td>\n",
       "      <td>acousticness</td>\n",
       "      <td>-0.682479</td>\n",
       "    </tr>\n",
       "  </tbody>\n",
       "</table>\n",
       "</div>"
      ],
      "text/plain": [
       "            feature_1         feature_2  correlation\n",
       "3              energy          loudness     0.791640\n",
       "19       danceability           valence     0.479953\n",
       "41           loudness           valence     0.406772\n",
       "8              energy           valence     0.393453\n",
       "65        speechiness       duration_ms     0.366976\n",
       "50       acousticness  instrumentalness     0.352184\n",
       "13       danceability               key     0.285036\n",
       "29                key          liveness     0.278672\n",
       "16       danceability       speechiness     0.226148\n",
       "64        speechiness             tempo     0.215504\n",
       "76   instrumentalness       duration_ms     0.184709\n",
       "20       danceability             tempo     0.168956\n",
       "14       danceability          loudness     0.167147\n",
       "1              energy      danceability     0.152552\n",
       "109             tempo       duration_ms     0.130328\n",
       "30                key           valence     0.120007\n",
       "42           loudness             tempo     0.102097\n",
       "10             energy       duration_ms     0.081971\n",
       "31                key             tempo     0.080475\n",
       "9              energy             tempo     0.075191\n",
       "5              energy       speechiness     0.074267\n",
       "7              energy          liveness     0.069487\n",
       "43           loudness       duration_ms     0.064130\n",
       "2              energy               key     0.062428\n",
       "63        speechiness           valence     0.053867\n",
       "97            valence             tempo     0.045089\n",
       "61        speechiness  instrumentalness     0.028948\n",
       "86           liveness             tempo     0.025457\n",
       "28                key  instrumentalness     0.020802\n",
       "75   instrumentalness             tempo     0.018853\n",
       "32                key       duration_ms    -0.003345\n",
       "18       danceability          liveness    -0.006648\n",
       "25                key          loudness    -0.009178\n",
       "54       acousticness       duration_ms    -0.010988\n",
       "17       danceability  instrumentalness    -0.017706\n",
       "38           loudness       speechiness    -0.021693\n",
       "85           liveness           valence    -0.033366\n",
       "21       danceability       duration_ms    -0.033763\n",
       "98            valence       duration_ms    -0.039794\n",
       "40           loudness          liveness    -0.069939\n",
       "73   instrumentalness          liveness    -0.087034\n",
       "87           liveness       duration_ms    -0.090188\n",
       "27                key       speechiness    -0.094965\n",
       "26                key      acousticness    -0.113394\n",
       "51       acousticness          liveness    -0.128384\n",
       "49       acousticness       speechiness    -0.135392\n",
       "62        speechiness          liveness    -0.142957\n",
       "74   instrumentalness           valence    -0.203283\n",
       "53       acousticness             tempo    -0.241119\n",
       "52       acousticness           valence    -0.243192\n",
       "15       danceability      acousticness    -0.359135\n",
       "6              energy  instrumentalness    -0.385515\n",
       "37           loudness      acousticness    -0.498695\n",
       "39           loudness  instrumentalness    -0.553735\n",
       "4              energy      acousticness    -0.682479"
      ]
     },
     "execution_count": 115,
     "metadata": {},
     "output_type": "execute_result"
    }
   ],
   "source": [
    "sorted_correlation = stacked_correlation.sort_values(by='correlation', ascending=False)\n",
    "sorted_correlation"
   ]
  },
  {
   "cell_type": "markdown",
   "metadata": {},
   "source": [
    "#### Which features are strongly positively correlated?"
   ]
  },
  {
   "cell_type": "markdown",
   "metadata": {},
   "source": [
    "In the cell below we are assigning a variable to give out correlation scores that are true for the mask and returning contents. <br>\n",
    "In the output cell we get one numeric feature that is almost strongly positively correlated with value above 0.7. It contains index, feature_1, feature_2 and correlation score columns. <br>\n",
    "Strongly positively correlated values mean that if two are strongly positively correlated then if one increases, the other increases as well. If it decreases, then the other decreases as well."
   ]
  },
  {
   "cell_type": "code",
   "execution_count": 116,
   "metadata": {},
   "outputs": [
    {
     "data": {
      "text/html": [
       "<div>\n",
       "<style scoped>\n",
       "    .dataframe tbody tr th:only-of-type {\n",
       "        vertical-align: middle;\n",
       "    }\n",
       "\n",
       "    .dataframe tbody tr th {\n",
       "        vertical-align: top;\n",
       "    }\n",
       "\n",
       "    .dataframe thead th {\n",
       "        text-align: right;\n",
       "    }\n",
       "</style>\n",
       "<table border=\"1\" class=\"dataframe\">\n",
       "  <thead>\n",
       "    <tr style=\"text-align: right;\">\n",
       "      <th></th>\n",
       "      <th>feature_1</th>\n",
       "      <th>feature_2</th>\n",
       "      <th>correlation</th>\n",
       "    </tr>\n",
       "  </thead>\n",
       "  <tbody>\n",
       "    <tr>\n",
       "      <th>3</th>\n",
       "      <td>energy</td>\n",
       "      <td>loudness</td>\n",
       "      <td>0.79164</td>\n",
       "    </tr>\n",
       "  </tbody>\n",
       "</table>\n",
       "</div>"
      ],
      "text/plain": [
       "  feature_1 feature_2  correlation\n",
       "3    energy  loudness      0.79164"
      ]
     },
     "execution_count": 116,
     "metadata": {},
     "output_type": "execute_result"
    }
   ],
   "source": [
    "positive_corr = sorted_correlation[(sorted_correlation['correlation'] > 0.7)]\n",
    "positive_corr"
   ]
  },
  {
   "cell_type": "markdown",
   "metadata": {},
   "source": [
    "In the cell below a function based on Cramers V principle that looks over correlation between two categorical variables was written. <br>\n",
    "In the output we get an example of function's functionality printing out the correlation score between two categorical variables.\n",
    "\n",
    "\n"
   ]
  },
  {
   "cell_type": "code",
   "execution_count": 117,
   "metadata": {},
   "outputs": [
    {
     "data": {
      "text/plain": [
       "0.941468871691272"
      ]
     },
     "execution_count": 117,
     "metadata": {},
     "output_type": "execute_result"
    }
   ],
   "source": [
    "def cramers_v(x: pd.Series, y: pd.Series) -> np.float64:\n",
    "    \"\"\" Function provides a measure of association between two categorical variables, \n",
    "    giving a value between 0 and 1. From Bergsma and Wicher, \n",
    "    Journal of the Korean Statistical Society 42 (2013): 323-328\n",
    "    \"\"\"\n",
    "    # Compute a simple cross tabulation of two (x, y) factors. \n",
    "    # By default computes a frequency table of the factors.\n",
    "    # Returns 0s and 1s in a 45x40 dataframe\n",
    "    confusion_matrix = pd.crosstab(x,y)\n",
    "    # Assignment to a function that computes the chi-square statistic and p-value for the hypothesis test\n",
    "    # of independence of the observed frequencies in the confusion_matrix (contingency table). Single value\n",
    "    chi2 = ss.chi2_contingency(confusion_matrix)[0]\n",
    "    # Adds the confusion_matrix 0s and 1 twice. First generating occurrences per artists and \n",
    "    # second sum() like artists.sum() for all\n",
    "    n = confusion_matrix.sum().sum()\n",
    "    # The Phi Coefficient is a measure of association between two binary variables. Returns a single value.\n",
    "    phi2 = chi2/n\n",
    "    # The obsrvations of confusion_matrix (r) and features of confusion_matrix (k)\n",
    "    r,k = confusion_matrix.shape\n",
    "    # Calculates phi2 correlation value\n",
    "    phi2corr = max(0, phi2-((k-1)*(r-1))/(n-1))\n",
    "    # Calculates confusion_matrix observation (r) correlation value\n",
    "    rcorr = r-((r-1)**2)/(n-1)\n",
    "    # Calculates confusion_matrix feature (k) correlation value\n",
    "    kcorr = k-((k-1)**2)/(n-1)\n",
    "    # Calculates correlation value between two categorical variables\n",
    "    return np.sqrt(phi2corr/min((kcorr-1),(rcorr-1)))\n",
    "\n",
    "cramers_v(df['album'], df['artist']) # 0.941468871691272"
   ]
  },
  {
   "cell_type": "markdown",
   "metadata": {},
   "source": [
    "In the cell below we wrote a function to return a dict based on cramers_v function for a given dataframe. <br>\n",
    "Then we ran the function and printed out the single correlation score as an item of a dict. <br>\n",
    "In the output we get one item of a dict, which comes as being strongly positively correlated feature."
   ]
  },
  {
   "cell_type": "code",
   "execution_count": 118,
   "metadata": {},
   "outputs": [
    {
     "data": {
      "text/plain": [
       "{'artist-album': 0.941468871691272}"
      ]
     },
     "execution_count": 118,
     "metadata": {},
     "output_type": "execute_result"
    }
   ],
   "source": [
    "\n",
    "def correlation_between_categorical_variables(df: pd.DataFrame) -> dict:\n",
    "    \"\"\" This function allows to dentify a correlation between categorical variables wrt cramers_v\"\"\"\n",
    "    categorical_dict = {}\n",
    "    for i, column in enumerate(df.columns):\n",
    "        if df[column].dtype == 'object':\n",
    "            try:\n",
    "                categorical_dict[df.columns[i] + '-' + df.columns[i + 1]] = cramers_v(df[df.columns[i]], df[df.columns[i+1]])\n",
    "            except:\n",
    "                pass\n",
    "    return categorical_dict \n",
    "\n",
    "categorical = correlation_between_categorical_variables(df)\n",
    "dict(itertools.islice(categorical.items(), 1))"
   ]
  },
  {
   "cell_type": "markdown",
   "metadata": {},
   "source": [
    "#### Which features are strongly negatively correlated?"
   ]
  },
  {
   "cell_type": "markdown",
   "metadata": {},
   "source": [
    "In the cell below we are assigning a variable to give out correlation scores that are true for the mask and returning contents. <br>\n",
    "In the output cell we get one numeric feature that is almost strongly negatively correlated with value below -0.6. It contains index, feature_1, feature_2 and correlation score columns. <br>\n",
    "Strongly negatively correlated values mean that if two are strongly negatively correlated then if one increases, the other decreases. Otherwise vice versa."
   ]
  },
  {
   "cell_type": "code",
   "execution_count": 119,
   "metadata": {},
   "outputs": [
    {
     "data": {
      "text/html": [
       "<div>\n",
       "<style scoped>\n",
       "    .dataframe tbody tr th:only-of-type {\n",
       "        vertical-align: middle;\n",
       "    }\n",
       "\n",
       "    .dataframe tbody tr th {\n",
       "        vertical-align: top;\n",
       "    }\n",
       "\n",
       "    .dataframe thead th {\n",
       "        text-align: right;\n",
       "    }\n",
       "</style>\n",
       "<table border=\"1\" class=\"dataframe\">\n",
       "  <thead>\n",
       "    <tr style=\"text-align: right;\">\n",
       "      <th></th>\n",
       "      <th>feature_1</th>\n",
       "      <th>feature_2</th>\n",
       "      <th>correlation</th>\n",
       "    </tr>\n",
       "  </thead>\n",
       "  <tbody>\n",
       "    <tr>\n",
       "      <th>4</th>\n",
       "      <td>energy</td>\n",
       "      <td>acousticness</td>\n",
       "      <td>-0.682479</td>\n",
       "    </tr>\n",
       "  </tbody>\n",
       "</table>\n",
       "</div>"
      ],
      "text/plain": [
       "  feature_1     feature_2  correlation\n",
       "4    energy  acousticness    -0.682479"
      ]
     },
     "execution_count": 119,
     "metadata": {},
     "output_type": "execute_result"
    }
   ],
   "source": [
    "negative_corr = sorted_correlation[(sorted_correlation['correlation'] < -0.6)]\n",
    "negative_corr "
   ]
  },
  {
   "cell_type": "markdown",
   "metadata": {},
   "source": [
    "#### Which features are not correlated?"
   ]
  },
  {
   "cell_type": "markdown",
   "metadata": {},
   "source": [
    "In the cell below we are assigning a variable to give out correlation scores that are true for the mask and returning contents. <br>\n",
    "Output gives not correlated numeric feature values around 0 (ranging from -0.1  to 0.1). It contains index, feature_1, feature_2 and correlation score columns. <br>\n",
    "No correlation means that there's is neither increase, nor decrease when comparing the two variables.\n"
   ]
  },
  {
   "cell_type": "code",
   "execution_count": 120,
   "metadata": {},
   "outputs": [
    {
     "data": {
      "text/html": [
       "<div>\n",
       "<style scoped>\n",
       "    .dataframe tbody tr th:only-of-type {\n",
       "        vertical-align: middle;\n",
       "    }\n",
       "\n",
       "    .dataframe tbody tr th {\n",
       "        vertical-align: top;\n",
       "    }\n",
       "\n",
       "    .dataframe thead th {\n",
       "        text-align: right;\n",
       "    }\n",
       "</style>\n",
       "<table border=\"1\" class=\"dataframe\">\n",
       "  <thead>\n",
       "    <tr style=\"text-align: right;\">\n",
       "      <th></th>\n",
       "      <th>feature_1</th>\n",
       "      <th>feature_2</th>\n",
       "      <th>correlation</th>\n",
       "    </tr>\n",
       "  </thead>\n",
       "  <tbody>\n",
       "    <tr>\n",
       "      <th>10</th>\n",
       "      <td>energy</td>\n",
       "      <td>duration_ms</td>\n",
       "      <td>0.081971</td>\n",
       "    </tr>\n",
       "    <tr>\n",
       "      <th>31</th>\n",
       "      <td>key</td>\n",
       "      <td>tempo</td>\n",
       "      <td>0.080475</td>\n",
       "    </tr>\n",
       "    <tr>\n",
       "      <th>9</th>\n",
       "      <td>energy</td>\n",
       "      <td>tempo</td>\n",
       "      <td>0.075191</td>\n",
       "    </tr>\n",
       "    <tr>\n",
       "      <th>5</th>\n",
       "      <td>energy</td>\n",
       "      <td>speechiness</td>\n",
       "      <td>0.074267</td>\n",
       "    </tr>\n",
       "    <tr>\n",
       "      <th>7</th>\n",
       "      <td>energy</td>\n",
       "      <td>liveness</td>\n",
       "      <td>0.069487</td>\n",
       "    </tr>\n",
       "    <tr>\n",
       "      <th>43</th>\n",
       "      <td>loudness</td>\n",
       "      <td>duration_ms</td>\n",
       "      <td>0.064130</td>\n",
       "    </tr>\n",
       "    <tr>\n",
       "      <th>2</th>\n",
       "      <td>energy</td>\n",
       "      <td>key</td>\n",
       "      <td>0.062428</td>\n",
       "    </tr>\n",
       "    <tr>\n",
       "      <th>63</th>\n",
       "      <td>speechiness</td>\n",
       "      <td>valence</td>\n",
       "      <td>0.053867</td>\n",
       "    </tr>\n",
       "    <tr>\n",
       "      <th>97</th>\n",
       "      <td>valence</td>\n",
       "      <td>tempo</td>\n",
       "      <td>0.045089</td>\n",
       "    </tr>\n",
       "    <tr>\n",
       "      <th>61</th>\n",
       "      <td>speechiness</td>\n",
       "      <td>instrumentalness</td>\n",
       "      <td>0.028948</td>\n",
       "    </tr>\n",
       "    <tr>\n",
       "      <th>86</th>\n",
       "      <td>liveness</td>\n",
       "      <td>tempo</td>\n",
       "      <td>0.025457</td>\n",
       "    </tr>\n",
       "    <tr>\n",
       "      <th>28</th>\n",
       "      <td>key</td>\n",
       "      <td>instrumentalness</td>\n",
       "      <td>0.020802</td>\n",
       "    </tr>\n",
       "    <tr>\n",
       "      <th>75</th>\n",
       "      <td>instrumentalness</td>\n",
       "      <td>tempo</td>\n",
       "      <td>0.018853</td>\n",
       "    </tr>\n",
       "    <tr>\n",
       "      <th>32</th>\n",
       "      <td>key</td>\n",
       "      <td>duration_ms</td>\n",
       "      <td>-0.003345</td>\n",
       "    </tr>\n",
       "    <tr>\n",
       "      <th>18</th>\n",
       "      <td>danceability</td>\n",
       "      <td>liveness</td>\n",
       "      <td>-0.006648</td>\n",
       "    </tr>\n",
       "    <tr>\n",
       "      <th>25</th>\n",
       "      <td>key</td>\n",
       "      <td>loudness</td>\n",
       "      <td>-0.009178</td>\n",
       "    </tr>\n",
       "    <tr>\n",
       "      <th>54</th>\n",
       "      <td>acousticness</td>\n",
       "      <td>duration_ms</td>\n",
       "      <td>-0.010988</td>\n",
       "    </tr>\n",
       "    <tr>\n",
       "      <th>17</th>\n",
       "      <td>danceability</td>\n",
       "      <td>instrumentalness</td>\n",
       "      <td>-0.017706</td>\n",
       "    </tr>\n",
       "    <tr>\n",
       "      <th>38</th>\n",
       "      <td>loudness</td>\n",
       "      <td>speechiness</td>\n",
       "      <td>-0.021693</td>\n",
       "    </tr>\n",
       "    <tr>\n",
       "      <th>85</th>\n",
       "      <td>liveness</td>\n",
       "      <td>valence</td>\n",
       "      <td>-0.033366</td>\n",
       "    </tr>\n",
       "    <tr>\n",
       "      <th>21</th>\n",
       "      <td>danceability</td>\n",
       "      <td>duration_ms</td>\n",
       "      <td>-0.033763</td>\n",
       "    </tr>\n",
       "    <tr>\n",
       "      <th>98</th>\n",
       "      <td>valence</td>\n",
       "      <td>duration_ms</td>\n",
       "      <td>-0.039794</td>\n",
       "    </tr>\n",
       "    <tr>\n",
       "      <th>40</th>\n",
       "      <td>loudness</td>\n",
       "      <td>liveness</td>\n",
       "      <td>-0.069939</td>\n",
       "    </tr>\n",
       "    <tr>\n",
       "      <th>73</th>\n",
       "      <td>instrumentalness</td>\n",
       "      <td>liveness</td>\n",
       "      <td>-0.087034</td>\n",
       "    </tr>\n",
       "    <tr>\n",
       "      <th>87</th>\n",
       "      <td>liveness</td>\n",
       "      <td>duration_ms</td>\n",
       "      <td>-0.090188</td>\n",
       "    </tr>\n",
       "    <tr>\n",
       "      <th>27</th>\n",
       "      <td>key</td>\n",
       "      <td>speechiness</td>\n",
       "      <td>-0.094965</td>\n",
       "    </tr>\n",
       "  </tbody>\n",
       "</table>\n",
       "</div>"
      ],
      "text/plain": [
       "           feature_1         feature_2  correlation\n",
       "10            energy       duration_ms     0.081971\n",
       "31               key             tempo     0.080475\n",
       "9             energy             tempo     0.075191\n",
       "5             energy       speechiness     0.074267\n",
       "7             energy          liveness     0.069487\n",
       "43          loudness       duration_ms     0.064130\n",
       "2             energy               key     0.062428\n",
       "63       speechiness           valence     0.053867\n",
       "97           valence             tempo     0.045089\n",
       "61       speechiness  instrumentalness     0.028948\n",
       "86          liveness             tempo     0.025457\n",
       "28               key  instrumentalness     0.020802\n",
       "75  instrumentalness             tempo     0.018853\n",
       "32               key       duration_ms    -0.003345\n",
       "18      danceability          liveness    -0.006648\n",
       "25               key          loudness    -0.009178\n",
       "54      acousticness       duration_ms    -0.010988\n",
       "17      danceability  instrumentalness    -0.017706\n",
       "38          loudness       speechiness    -0.021693\n",
       "85          liveness           valence    -0.033366\n",
       "21      danceability       duration_ms    -0.033763\n",
       "98           valence       duration_ms    -0.039794\n",
       "40          loudness          liveness    -0.069939\n",
       "73  instrumentalness          liveness    -0.087034\n",
       "87          liveness       duration_ms    -0.090188\n",
       "27               key       speechiness    -0.094965"
      ]
     },
     "execution_count": 120,
     "metadata": {},
     "output_type": "execute_result"
    }
   ],
   "source": [
    "not_corr = sorted_correlation[(sorted_correlation['correlation'] > -0.1) & (sorted_correlation['correlation'] < 0.1)]\n",
    "not_corr"
   ]
  },
  {
   "cell_type": "markdown",
   "metadata": {},
   "source": [
    "# Genre comparisons against various features"
   ]
  },
  {
   "cell_type": "markdown",
   "metadata": {},
   "source": [
    "#### How the danceability score compares between Pop, Hip-Hop/Rap, Dance/Electronic, and Alternative/Indie genres?"
   ]
  },
  {
   "cell_type": "markdown",
   "metadata": {},
   "source": [
    "In the cell below we are assigning a variable (specific_columns) to a list of specific genres. Also assigning another variable (df_sorted) to sort values in descending order in 'danceability' column. Then looping over these specific genres, splitting dataframe into genre groups and getting specifc 'danceability' values. After that we print position index, 'danceability' score and genre type. <br>\n",
    "In the output we get dataframes of four genres with comparisons of specific 'danceability' scores"
   ]
  },
  {
   "cell_type": "code",
   "execution_count": 121,
   "metadata": {},
   "outputs": [
    {
     "name": "stdout",
     "output_type": "stream",
     "text": [
      "          danceability genre\n",
      "position                    \n",
      "15               0.806   Pop\n",
      "11               0.803   Pop\n",
      "39               0.783   Pop\n",
      "19               0.764   Pop\n",
      "26               0.759   Pop\n",
      "42               0.723   Pop\n",
      "25               0.704   Pop\n",
      "31               0.676   Pop\n",
      "22               0.676   Pop\n",
      "36               0.672   Pop\n",
      "47               0.597   Pop\n",
      "7                0.548   Pop\n",
      "46               0.511   Pop\n",
      "48               0.464   Pop\n",
      "          danceability        genre\n",
      "position                           \n",
      "3                0.896  Hip-Hop/Rap\n",
      "41               0.841  Hip-Hop/Rap\n",
      "50               0.834  Hip-Hop/Rap\n",
      "16               0.830  Hip-Hop/Rap\n",
      "30               0.808  Hip-Hop/Rap\n",
      "20               0.795  Hip-Hop/Rap\n",
      "14               0.774  Hip-Hop/Rap\n",
      "21               0.767  Hip-Hop/Rap\n",
      "6                0.746  Hip-Hop/Rap\n",
      "8                0.726  Hip-Hop/Rap\n",
      "43               0.716  Hip-Hop/Rap\n",
      "12               0.621  Hip-Hop/Rap\n",
      "37               0.598  Hip-Hop/Rap\n",
      "          danceability             genre\n",
      "position                                \n",
      "40               0.880  Dance/Electronic\n",
      "23               0.789  Dance/Electronic\n",
      "4                0.785  Dance/Electronic\n",
      "35               0.674  Dance/Electronic\n",
      "49               0.647  Dance/Electronic\n",
      "          danceability              genre\n",
      "position                                 \n",
      "34               0.862  Alternative/Indie\n",
      "2                0.825  Alternative/Indie\n",
      "10               0.501  Alternative/Indie\n",
      "17               0.459  Alternative/Indie\n"
     ]
    }
   ],
   "source": [
    "specific_columns = ['Pop', 'Hip-Hop/Rap', 'Dance/Electronic', 'Alternative/Indie']\n",
    "df_sorted = df.sort_values('danceability', ascending=False)\n",
    "for i in specific_columns:\n",
    "    print(df_sorted.groupby('genre').get_group(i)[['danceability', 'genre']])"
   ]
  },
  {
   "cell_type": "markdown",
   "metadata": {},
   "source": [
    "#### How the loudness score compares between Pop, Hip-Hop/Rap, Dance/Electronic, and Alternative/Indie genres?"
   ]
  },
  {
   "cell_type": "markdown",
   "metadata": {},
   "source": [
    "In the cell below we are assigning a variable to sort values in descending order in 'loudness' column. Then looping over specific genres, splitting dataframe into genre groups and getting a specifc 'loudness' value. After that we print position index, 'loudness' score and genre type. <br>\n",
    "In the output cell we get dataframes of four genres with comparisons of specific 'loudness' values. \n"
   ]
  },
  {
   "cell_type": "code",
   "execution_count": 122,
   "metadata": {
    "scrolled": true
   },
   "outputs": [
    {
     "name": "stdout",
     "output_type": "stream",
     "text": [
      "          loudness genre\n",
      "position                \n",
      "25         -14.454   Pop\n",
      "48         -10.086   Pop\n",
      "46          -7.230   Pop\n",
      "19          -7.209   Pop\n",
      "42          -7.088   Pop\n",
      "47          -6.658   Pop\n",
      "31          -6.652   Pop\n",
      "15          -6.637   Pop\n",
      "26          -6.049   Pop\n",
      "7           -4.209   Pop\n",
      "36          -3.764   Pop\n",
      "22          -3.675   Pop\n",
      "39          -3.454   Pop\n",
      "11          -3.280   Pop\n",
      "          loudness        genre\n",
      "position                       \n",
      "16          -8.820  Hip-Hop/Rap\n",
      "8           -8.765  Hip-Hop/Rap\n",
      "37          -8.764  Hip-Hop/Rap\n",
      "21          -8.520  Hip-Hop/Rap\n",
      "6           -7.956  Hip-Hop/Rap\n",
      "14          -7.909  Hip-Hop/Rap\n",
      "43          -7.648  Hip-Hop/Rap\n",
      "20          -6.903  Hip-Hop/Rap\n",
      "3           -6.687  Hip-Hop/Rap\n",
      "12          -5.616  Hip-Hop/Rap\n",
      "30          -5.260  Hip-Hop/Rap\n",
      "50          -3.714  Hip-Hop/Rap\n",
      "41          -3.370  Hip-Hop/Rap\n",
      "          loudness             genre\n",
      "position                            \n",
      "35          -7.567  Dance/Electronic\n",
      "23          -5.652  Dance/Electronic\n",
      "4           -5.457  Dance/Electronic\n",
      "40          -4.258  Dance/Electronic\n",
      "49          -3.756  Dance/Electronic\n",
      "          loudness              genre\n",
      "position                             \n",
      "2           -6.401  Alternative/Indie\n",
      "10          -5.679  Alternative/Indie\n",
      "17          -4.858  Alternative/Indie\n",
      "34          -4.746  Alternative/Indie\n"
     ]
    }
   ],
   "source": [
    "df_sorted_loudness = df.sort_values('loudness', ascending=True)\n",
    "for i in specific_columns:\n",
    "    print(df_sorted_loudness.groupby('genre').get_group(i)[['loudness', 'genre']])\n"
   ]
  },
  {
   "cell_type": "markdown",
   "metadata": {},
   "source": [
    "#### How the acousticness score compares between Pop, Hip-Hop/Rap, Dance/Electronic, and Alternative/Indie genres?"
   ]
  },
  {
   "cell_type": "markdown",
   "metadata": {},
   "source": [
    "In the cell below we are assigning a variable to sort values in descending order in 'acousticness' column. Then looping over specific genres, splitting dataframe into genre groups and getting a specifc 'acousticness' value. After that we print position index, 'acousticness' score and genre type. <br>\n",
    "In the output cell we get dataframes of four genres with comparisons of specific 'acousticness' values."
   ]
  },
  {
   "cell_type": "code",
   "execution_count": 123,
   "metadata": {},
   "outputs": [
    {
     "name": "stdout",
     "output_type": "stream",
     "text": [
      "          acousticness genre\n",
      "position                    \n",
      "25              0.9020   Pop\n",
      "48              0.8660   Pop\n",
      "19              0.8370   Pop\n",
      "46              0.3490   Pop\n",
      "31              0.3450   Pop\n",
      "15              0.3000   Pop\n",
      "11              0.2950   Pop\n",
      "47              0.2230   Pop\n",
      "39              0.1850   Pop\n",
      "7               0.1220   Pop\n",
      "26              0.0392   Pop\n",
      "42              0.0259   Pop\n",
      "22              0.0237   Pop\n",
      "36              0.0210   Pop\n",
      "          acousticness        genre\n",
      "position                           \n",
      "8              0.73100  Hip-Hop/Rap\n",
      "16             0.28900  Hip-Hop/Rap\n",
      "6              0.24700  Hip-Hop/Rap\n",
      "21             0.23400  Hip-Hop/Rap\n",
      "43             0.23300  Hip-Hop/Rap\n",
      "14             0.20700  Hip-Hop/Rap\n",
      "30             0.14500  Hip-Hop/Rap\n",
      "3              0.10400  Hip-Hop/Rap\n",
      "41             0.08470  Hip-Hop/Rap\n",
      "20             0.06700  Hip-Hop/Rap\n",
      "37             0.05460  Hip-Hop/Rap\n",
      "12             0.05220  Hip-Hop/Rap\n",
      "50             0.00513  Hip-Hop/Rap\n",
      "          acousticness             genre\n",
      "position                                \n",
      "23              0.2230  Dance/Electronic\n",
      "40              0.1770  Dance/Electronic\n",
      "35              0.0686  Dance/Electronic\n",
      "4               0.0149  Dance/Electronic\n",
      "49              0.0137  Dance/Electronic\n",
      "          acousticness              genre\n",
      "position                                 \n",
      "10               0.751  Alternative/Indie\n",
      "2                0.688  Alternative/Indie\n",
      "17               0.604  Alternative/Indie\n",
      "34               0.291  Alternative/Indie\n"
     ]
    }
   ],
   "source": [
    "df_sorted_acousticness = df.sort_values('acousticness', ascending=False)\n",
    "for i in specific_columns:\n",
    "    print(df_sorted_acousticness.groupby('genre').get_group(i)[['acousticness', 'genre']])    "
   ]
  },
  {
   "cell_type": "markdown",
   "metadata": {},
   "source": [
    "# Improvements\n",
    "\n",
    "<p>1) Improve data visualization by removing outliers. <br>\n",
    "2) Use one hot encoding to help with better conversion of categorical variables to numbers. <br>\n",
    "3) Provide more helpful visualizations for correlation presentations and after OHE. <br>\n",
    "4) Import data from other years to see whether there are any trends. <p>\n",
    "\n",
    "\n"
   ]
  },
  {
   "cell_type": "markdown",
   "metadata": {},
   "source": [
    "# Conclusion\n",
    "\n",
    "The basic analysis of Top 50 Spotify Tracks 2020 dataset was done. Herein various things were identified like who was the most populart artist, what albums were the most popular, which track was longest and shortest. Then the correlation analysis and masking were done to investigate correlation values and how specific values look along a specific feature (like track rows across loudness feature). More details can be found on the specific cell with commands in it as the questions and short decriptions of what were done and what were expected were provided before the analysis on the specific cell. <br>\n",
    "Hope you enjoyed the analysis."
   ]
  },
  {
   "cell_type": "code",
   "execution_count": null,
   "metadata": {},
   "outputs": [],
   "source": []
  },
  {
   "cell_type": "code",
   "execution_count": null,
   "metadata": {},
   "outputs": [],
   "source": []
  }
 ],
 "metadata": {
  "kernelspec": {
   "display_name": "Python 3",
   "language": "python",
   "name": "python3"
  },
  "language_info": {
   "codemirror_mode": {
    "name": "ipython",
    "version": 3
   },
   "file_extension": ".py",
   "mimetype": "text/x-python",
   "name": "python",
   "nbconvert_exporter": "python",
   "pygments_lexer": "ipython3",
   "version": "3.8.5"
  }
 },
 "nbformat": 4,
 "nbformat_minor": 4
}
